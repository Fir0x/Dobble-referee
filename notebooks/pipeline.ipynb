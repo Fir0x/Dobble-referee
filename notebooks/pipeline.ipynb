{
 "cells": [
  {
   "cell_type": "code",
   "execution_count": 1,
   "id": "ff566893",
   "metadata": {},
   "outputs": [],
   "source": [
    "PATH_TO_RESOURCES = \"../resources/train\""
   ]
  },
  {
   "cell_type": "markdown",
   "id": "fd1f15ca",
   "metadata": {},
   "source": [
    "## Récupérations des images"
   ]
  },
  {
   "cell_type": "code",
   "execution_count": 2,
   "id": "4a6e3c3f",
   "metadata": {},
   "outputs": [],
   "source": [
    "import cv2"
   ]
  },
  {
   "cell_type": "code",
   "execution_count": 3,
   "id": "91427614",
   "metadata": {},
   "outputs": [
    {
     "data": {
      "text/plain": [
       "['../resources/train/01/c01_s00.png',\n",
       " '../resources/train/01/c04_s01.png',\n",
       " '../resources/train/01/c07_s03.png',\n",
       " '../resources/train/01/c30_s03.png',\n",
       " '../resources/train/01/c34_s03.png',\n",
       " '../resources/train/02/c01_s01.png',\n",
       " '../resources/train/02/c09_s00.png',\n",
       " '../resources/train/02/c14_s05.png',\n",
       " '../resources/train/02/c32_s00.png',\n",
       " '../resources/train/02/c53_s03.png',\n",
       " '../resources/train/03/c03_s04.png',\n",
       " '../resources/train/03/c37_s00.png',\n",
       " '../resources/train/03/c47_s00.png',\n",
       " '../resources/train/03/c50_s01.png',\n",
       " '../resources/train/03/c51_s01.png',\n",
       " '../resources/train/04/c01_s03.png',\n",
       " '../resources/train/04/c22_s05.png',\n",
       " '../resources/train/04/c31_s02.png',\n",
       " '../resources/train/04/c39_s02.png',\n",
       " '../resources/train/04/c46_s04.png',\n",
       " '../resources/train/05/c01_s04.png',\n",
       " '../resources/train/05/c12_s07.png',\n",
       " '../resources/train/05/c23_s01.png',\n",
       " '../resources/train/05/c29_s02.png',\n",
       " '../resources/train/05/c38_s03.png',\n",
       " '../resources/train/06/c01_s05.png',\n",
       " '../resources/train/06/c10_s05.png',\n",
       " '../resources/train/06/c16_s03.png',\n",
       " '../resources/train/06/c49_s07.png',\n",
       " '../resources/train/06/c52_s07.png',\n",
       " '../resources/train/07/c01_s06.png',\n",
       " '../resources/train/07/c18_s05.png',\n",
       " '../resources/train/07/c25_s02.png',\n",
       " '../resources/train/07/c40_s06.png',\n",
       " '../resources/train/07/c42_s05.png',\n",
       " '../resources/train/08/c01_s07.png',\n",
       " '../resources/train/08/c11_s07.png',\n",
       " '../resources/train/08/c21_s06.png',\n",
       " '../resources/train/08/c41_s07.png',\n",
       " '../resources/train/08/c48_s07.png',\n",
       " '../resources/train/09/c02_s00.png',\n",
       " '../resources/train/09/c04_s04.png',\n",
       " '../resources/train/09/c09_s05.png',\n",
       " '../resources/train/09/c51_s05.png',\n",
       " '../resources/train/09/c54_s05.png',\n",
       " '../resources/train/10/c02_s01.png',\n",
       " '../resources/train/10/c12_s01.png',\n",
       " '../resources/train/10/c35_s03.png',\n",
       " '../resources/train/10/c47_s04.png',\n",
       " '../resources/train/10/c48_s05.png',\n",
       " '../resources/train/11/c02_s03.png',\n",
       " '../resources/train/11/c26_s06.png',\n",
       " '../resources/train/11/c29_s06.png',\n",
       " '../resources/train/11/c50_s06.png',\n",
       " '../resources/train/11/c55_s07.png',\n",
       " '../resources/train/12/c03_s00.png',\n",
       " '../resources/train/12/c10_s00.png',\n",
       " '../resources/train/12/c36_s00.png',\n",
       " '../resources/train/12/c42_s04.png',\n",
       " '../resources/train/12/c53_s01.png',\n",
       " '../resources/train/13/c21_s02.png',\n",
       " '../resources/train/13/c25_s00.png',\n",
       " '../resources/train/13/c34_s04.png',\n",
       " '../resources/train/13/c45_s01.png',\n",
       " '../resources/train/13/c52_s05.png',\n",
       " '../resources/train/14/c02_s06.png',\n",
       " '../resources/train/14/c06_s07.png',\n",
       " '../resources/train/14/c07_s06.png',\n",
       " '../resources/train/14/c17_s04.png',\n",
       " '../resources/train/14/c37_s06.png',\n",
       " '../resources/train/15/c02_s07.png',\n",
       " '../resources/train/15/c14_s03.png',\n",
       " '../resources/train/15/c40_s02.png',\n",
       " '../resources/train/15/c41_s05.png',\n",
       " '../resources/train/15/c49_s04.png',\n",
       " '../resources/train/16/c03_s01.png',\n",
       " '../resources/train/16/c09_s01.png',\n",
       " '../resources/train/16/c28_s04.png',\n",
       " '../resources/train/16/c48_s00.png',\n",
       " '../resources/train/16/c52_s01.png',\n",
       " '../resources/train/17/c03_s02.png',\n",
       " '../resources/train/17/c14_s06.png',\n",
       " '../resources/train/17/c17_s05.png',\n",
       " '../resources/train/17/c25_s06.png',\n",
       " '../resources/train/17/c55_s04.png',\n",
       " '../resources/train/18/c03_s03.png',\n",
       " '../resources/train/18/c13_s00.png',\n",
       " '../resources/train/18/c15_s02.png',\n",
       " '../resources/train/18/c32_s04.png',\n",
       " '../resources/train/18/c41_s04.png',\n",
       " '../resources/train/19/c03_s05.png',\n",
       " '../resources/train/19/c08_s06.png',\n",
       " '../resources/train/19/c18_s06.png',\n",
       " '../resources/train/19/c19_s05.png',\n",
       " '../resources/train/19/c30_s05.png',\n",
       " '../resources/train/20/c04_s06.png',\n",
       " '../resources/train/20/c20_s07.png',\n",
       " '../resources/train/20/c29_s07.png',\n",
       " '../resources/train/20/c40_s07.png',\n",
       " '../resources/train/20/c46_s07.png',\n",
       " '../resources/train/21/c23_s00.png',\n",
       " '../resources/train/21/c26_s01.png',\n",
       " '../resources/train/21/c34_s02.png',\n",
       " '../resources/train/21/c35_s07.png',\n",
       " '../resources/train/21/c44_s02.png',\n",
       " '../resources/train/22/c06_s02.png',\n",
       " '../resources/train/22/c14_s00.png',\n",
       " '../resources/train/22/c26_s04.png',\n",
       " '../resources/train/22/c43_s04.png',\n",
       " '../resources/train/22/c47_s01.png',\n",
       " '../resources/train/23/c04_s02.png',\n",
       " '../resources/train/23/c23_s02.png',\n",
       " '../resources/train/23/c39_s05.png',\n",
       " '../resources/train/23/c50_s04.png',\n",
       " '../resources/train/23/c52_s04.png',\n",
       " '../resources/train/24/c05_s01.png',\n",
       " '../resources/train/24/c15_s00.png',\n",
       " '../resources/train/24/c37_s01.png',\n",
       " '../resources/train/24/c48_s02.png',\n",
       " '../resources/train/24/c49_s01.png',\n",
       " '../resources/train/25/c08_s05.png',\n",
       " '../resources/train/25/c16_s02.png',\n",
       " '../resources/train/25/c17_s03.png',\n",
       " '../resources/train/25/c38_s07.png',\n",
       " '../resources/train/25/c42_s07.png',\n",
       " '../resources/train/26/c04_s07.png',\n",
       " '../resources/train/26/c12_s05.png',\n",
       " '../resources/train/26/c22_s02.png',\n",
       " '../resources/train/26/c27_s04.png',\n",
       " '../resources/train/26/c32_s06.png',\n",
       " '../resources/train/27/c05_s00.png',\n",
       " '../resources/train/27/c06_s01.png',\n",
       " '../resources/train/27/c11_s02.png',\n",
       " '../resources/train/27/c38_s04.png',\n",
       " '../resources/train/27/c39_s00.png',\n",
       " '../resources/train/28/c05_s02.png',\n",
       " '../resources/train/28/c07_s00.png',\n",
       " '../resources/train/28/c10_s01.png',\n",
       " '../resources/train/28/c45_s02.png',\n",
       " '../resources/train/28/c46_s01.png',\n",
       " '../resources/train/29/c22_s01.png',\n",
       " '../resources/train/29/c33_s02.png',\n",
       " '../resources/train/29/c40_s01.png',\n",
       " '../resources/train/29/c47_s05.png',\n",
       " '../resources/train/29/c52_s02.png',\n",
       " '../resources/train/30/c05_s07.png',\n",
       " '../resources/train/30/c13_s07.png',\n",
       " '../resources/train/30/c21_s04.png',\n",
       " '../resources/train/30/c31_s05.png',\n",
       " '../resources/train/30/c42_s03.png',\n",
       " '../resources/train/31/c06_s04.png',\n",
       " '../resources/train/31/c27_s01.png',\n",
       " '../resources/train/31/c36_s02.png',\n",
       " '../resources/train/31/c46_s06.png',\n",
       " '../resources/train/31/c55_s02.png',\n",
       " '../resources/train/32/c12_s00.png',\n",
       " '../resources/train/32/c21_s03.png',\n",
       " '../resources/train/32/c33_s03.png',\n",
       " '../resources/train/32/c49_s03.png',\n",
       " '../resources/train/32/c50_s03.png',\n",
       " '../resources/train/33/c06_s06.png',\n",
       " '../resources/train/33/c22_s03.png',\n",
       " '../resources/train/33/c30_s07.png',\n",
       " '../resources/train/33/c45_s04.png',\n",
       " '../resources/train/33/c53_s07.png',\n",
       " '../resources/train/34/c07_s01.png',\n",
       " '../resources/train/34/c11_s00.png',\n",
       " '../resources/train/34/c35_s00.png',\n",
       " '../resources/train/34/c43_s02.png',\n",
       " '../resources/train/34/c50_s02.png',\n",
       " '../resources/train/35/c07_s04.png',\n",
       " '../resources/train/35/c29_s01.png',\n",
       " '../resources/train/35/c32_s01.png',\n",
       " '../resources/train/35/c47_s03.png',\n",
       " '../resources/train/35/c49_s05.png',\n",
       " '../resources/train/36/c07_s05.png',\n",
       " '../resources/train/36/c08_s07.png',\n",
       " '../resources/train/36/c27_s06.png',\n",
       " '../resources/train/36/c53_s05.png',\n",
       " '../resources/train/36/c54_s06.png',\n",
       " '../resources/train/37/c07_s07.png',\n",
       " '../resources/train/37/c14_s07.png',\n",
       " '../resources/train/37/c18_s07.png',\n",
       " '../resources/train/37/c21_s07.png',\n",
       " '../resources/train/37/c51_s07.png',\n",
       " '../resources/train/38/c11_s04.png',\n",
       " '../resources/train/38/c13_s01.png',\n",
       " '../resources/train/38/c14_s02.png',\n",
       " '../resources/train/38/c44_s04.png',\n",
       " '../resources/train/38/c52_s03.png',\n",
       " '../resources/train/39/c08_s01.png',\n",
       " '../resources/train/39/c23_s05.png',\n",
       " '../resources/train/39/c40_s04.png',\n",
       " '../resources/train/39/c48_s01.png',\n",
       " '../resources/train/39/c51_s00.png',\n",
       " '../resources/train/40/c08_s04.png',\n",
       " '../resources/train/40/c20_s02.png',\n",
       " '../resources/train/40/c28_s02.png',\n",
       " '../resources/train/40/c41_s06.png',\n",
       " '../resources/train/40/c47_s07.png',\n",
       " '../resources/train/41/c09_s03.png',\n",
       " '../resources/train/41/c36_s07.png',\n",
       " '../resources/train/41/c39_s07.png',\n",
       " '../resources/train/41/c40_s05.png',\n",
       " '../resources/train/41/c45_s05.png',\n",
       " '../resources/train/42/c22_s04.png',\n",
       " '../resources/train/42/c37_s07.png',\n",
       " '../resources/train/42/c42_s01.png',\n",
       " '../resources/train/42/c43_s05.png',\n",
       " '../resources/train/42/c55_s06.png',\n",
       " '../resources/train/43/c09_s06.png',\n",
       " '../resources/train/43/c10_s07.png',\n",
       " '../resources/train/43/c15_s03.png',\n",
       " '../resources/train/43/c17_s07.png',\n",
       " '../resources/train/43/c34_s06.png',\n",
       " '../resources/train/44/c09_s07.png',\n",
       " '../resources/train/44/c16_s07.png',\n",
       " '../resources/train/44/c25_s04.png',\n",
       " '../resources/train/44/c30_s06.png',\n",
       " '../resources/train/44/c46_s05.png',\n",
       " '../resources/train/45/c21_s00.png',\n",
       " '../resources/train/45/c28_s00.png',\n",
       " '../resources/train/45/c30_s01.png',\n",
       " '../resources/train/45/c35_s04.png',\n",
       " '../resources/train/45/c39_s01.png',\n",
       " '../resources/train/46/c10_s06.png',\n",
       " '../resources/train/46/c19_s07.png',\n",
       " '../resources/train/46/c20_s06.png',\n",
       " '../resources/train/46/c25_s05.png',\n",
       " '../resources/train/46/c50_s05.png',\n",
       " '../resources/train/47/c20_s01.png',\n",
       " '../resources/train/47/c31_s01.png',\n",
       " '../resources/train/47/c45_s00.png',\n",
       " '../resources/train/47/c49_s02.png',\n",
       " '../resources/train/47/c54_s03.png',\n",
       " '../resources/train/48/c16_s00.png',\n",
       " '../resources/train/48/c31_s07.png',\n",
       " '../resources/train/48/c34_s05.png',\n",
       " '../resources/train/48/c37_s05.png',\n",
       " '../resources/train/48/c53_s06.png',\n",
       " '../resources/train/49/c12_s06.png',\n",
       " '../resources/train/49/c15_s06.png',\n",
       " '../resources/train/49/c20_s04.png',\n",
       " '../resources/train/49/c30_s04.png',\n",
       " '../resources/train/49/c42_s06.png',\n",
       " '../resources/train/50/c13_s03.png',\n",
       " '../resources/train/50/c17_s02.png',\n",
       " '../resources/train/50/c43_s00.png',\n",
       " '../resources/train/50/c51_s03.png',\n",
       " '../resources/train/50/c53_s04.png',\n",
       " '../resources/train/51/c14_s01.png',\n",
       " '../resources/train/51/c24_s04.png',\n",
       " '../resources/train/51/c48_s03.png',\n",
       " '../resources/train/51/c50_s00.png',\n",
       " '../resources/train/51/c54_s00.png',\n",
       " '../resources/train/52/c14_s04.png',\n",
       " '../resources/train/52/c15_s07.png',\n",
       " '../resources/train/52/c28_s06.png',\n",
       " '../resources/train/52/c33_s06.png',\n",
       " '../resources/train/52/c45_s07.png',\n",
       " '../resources/train/53/c21_s01.png',\n",
       " '../resources/train/53/c24_s02.png',\n",
       " '../resources/train/53/c44_s01.png',\n",
       " '../resources/train/53/c47_s02.png',\n",
       " '../resources/train/53/c53_s02.png',\n",
       " '../resources/train/54/c20_s00.png',\n",
       " '../resources/train/54/c27_s00.png',\n",
       " '../resources/train/54/c33_s04.png',\n",
       " '../resources/train/54/c43_s01.png',\n",
       " '../resources/train/54/c48_s06.png',\n",
       " '../resources/train/55/c17_s01.png',\n",
       " '../resources/train/55/c30_s00.png',\n",
       " '../resources/train/55/c31_s06.png',\n",
       " '../resources/train/55/c32_s05.png',\n",
       " '../resources/train/55/c50_s07.png',\n",
       " '../resources/train/56/c18_s02.png',\n",
       " '../resources/train/56/c33_s05.png',\n",
       " '../resources/train/56/c37_s04.png',\n",
       " '../resources/train/56/c38_s02.png',\n",
       " '../resources/train/56/c46_s03.png',\n",
       " '../resources/train/57/c24_s00.png',\n",
       " '../resources/train/57/c25_s01.png',\n",
       " '../resources/train/57/c31_s03.png',\n",
       " '../resources/train/57/c33_s07.png',\n",
       " '../resources/train/57/c51_s04.png']"
      ]
     },
     "execution_count": 3,
     "metadata": {},
     "output_type": "execute_result"
    }
   ],
   "source": [
    "symbol_files = !ls $PATH_TO_RESOURCES/**/c*.png  | sort\n",
    "symbol_files"
   ]
  },
  {
   "cell_type": "code",
   "execution_count": 4,
   "id": "4027e629",
   "metadata": {},
   "outputs": [],
   "source": [
    "symbols = [cv2.cvtColor(cv2.imread(symbol_file), cv2.COLOR_BGR2RGB) for symbol_file in symbol_files]"
   ]
  },
  {
   "cell_type": "markdown",
   "id": "212605d9",
   "metadata": {},
   "source": [
    "## Récupération des labels"
   ]
  },
  {
   "cell_type": "code",
   "execution_count": 5,
   "id": "50f6cf74",
   "metadata": {},
   "outputs": [],
   "source": [
    "import re\n",
    "import numpy as np\n",
    "from sklearn.model_selection import train_test_split"
   ]
  },
  {
   "cell_type": "code",
   "execution_count": 6,
   "id": "d090884a",
   "metadata": {},
   "outputs": [],
   "source": [
    "symbols_labels = np.array([re.search(\".+/([0-9]{2})/.+\\.png\", symbol_file).group(1) for symbol_file in symbol_files])"
   ]
  },
  {
   "cell_type": "code",
   "execution_count": 7,
   "id": "b3f0b375",
   "metadata": {},
   "outputs": [],
   "source": [
    "X_train, X_test, y_train, y_test = train_test_split(symbols, symbols_labels, test_size=0.2, stratify=symbols_labels)"
   ]
  },
  {
   "cell_type": "markdown",
   "id": "0dae78d7",
   "metadata": {},
   "source": [
    "# Transformateurs"
   ]
  },
  {
   "cell_type": "code",
   "execution_count": 8,
   "id": "6b5cb468",
   "metadata": {},
   "outputs": [],
   "source": [
    "import numpy as np"
   ]
  },
  {
   "cell_type": "markdown",
   "id": "a395b2ed",
   "metadata": {},
   "source": [
    "### Extraction de symboles"
   ]
  },
  {
   "cell_type": "code",
   "execution_count": 9,
   "id": "07a06b15",
   "metadata": {},
   "outputs": [],
   "source": [
    "class RGBSymbolExtractor():\n",
    "    def fit(self, X, y=None, sample_weight=None):\n",
    "        return self\n",
    "    \n",
    "    def transform(self, X, copy=None):\n",
    "        return [symbol[np.sum(symbol, axis=2) < 255 * 3] for symbol in X]"
   ]
  },
  {
   "cell_type": "markdown",
   "id": "b6d066d8",
   "metadata": {},
   "source": [
    "# Extraction de caractéristiques"
   ]
  },
  {
   "cell_type": "code",
   "execution_count": 10,
   "id": "9c2be996",
   "metadata": {},
   "outputs": [],
   "source": [
    "from sklearn.cluster import MiniBatchKMeans"
   ]
  },
  {
   "cell_type": "markdown",
   "id": "132ba408",
   "metadata": {},
   "source": [
    "## Histogramme couleur"
   ]
  },
  {
   "cell_type": "markdown",
   "id": "7c061a27",
   "metadata": {},
   "source": [
    "### Explications\n",
    "\n",
    "Voir le notebook [`color_histogram.ipynb`](http://localhost:8888/notebooks/color_histogram.ipynb)."
   ]
  },
  {
   "cell_type": "code",
   "execution_count": 11,
   "id": "5b5a0ca3",
   "metadata": {},
   "outputs": [],
   "source": [
    "class ColorHistogram():\n",
    "    def __init__(self):\n",
    "        self.kmeans = MiniBatchKMeans(8)\n",
    "        \n",
    "    def fit(self, X, y=None, sample_weight=None):\n",
    "        sample_pixels = X[0]\n",
    "        for i in range(1, len(X)):\n",
    "            sample_pixels = np.concatenate((sample_pixels, X[i]), axis=0)\n",
    "\n",
    "        self.kmeans.fit(sample_pixels)\n",
    "        \n",
    "        return self\n",
    "    \n",
    "    def transform(self, X, copy=None):\n",
    "        histograms = []\n",
    "        for i in range(len(X)):\n",
    "            histo = np.bincount(np.uint8(self.kmeans.predict(X[i])),\n",
    "                        minlength = self.kmeans.n_clusters) / len(X[i])\n",
    "            histograms.append(histo)\n",
    "\n",
    "        return histograms"
   ]
  },
  {
   "cell_type": "markdown",
   "id": "073a9719",
   "metadata": {},
   "source": [
    "## Hu Moments"
   ]
  },
  {
   "cell_type": "markdown",
   "id": "20090b8b",
   "metadata": {},
   "source": [
    "### Explications\n",
    "\n",
    "Voir le notebook [`moments.ipynb`](http://localhost:8888/notebooks/moments.ipynb)."
   ]
  },
  {
   "cell_type": "markdown",
   "id": "5718a86b",
   "metadata": {},
   "source": [
    "### Etape de pipeline"
   ]
  },
  {
   "cell_type": "code",
   "execution_count": 12,
   "id": "714a7266",
   "metadata": {},
   "outputs": [],
   "source": [
    "import cv2\n",
    "from math import copysign, log10"
   ]
  },
  {
   "cell_type": "code",
   "execution_count": 13,
   "id": "70b215fc",
   "metadata": {},
   "outputs": [],
   "source": [
    "class HuMoments():\n",
    "    def __init__(self):\n",
    "        self.kmeans = MiniBatchKMeans(8)\n",
    "        \n",
    "    def fit(self, X, y=None, sample_weight=None):\n",
    "        return self\n",
    "    \n",
    "    def transform(self, X, copy=None):\n",
    "        X_gray = [cv2.cvtColor(x, cv2.COLOR_BGR2GRAY) for x in X]\n",
    "        huMoments = []\n",
    "\n",
    "        for i in range(len(X)):\n",
    "            # Calculate Moments\n",
    "            moments = cv2.moments(X_gray[i])\n",
    "            # Calculate Hu Moments\n",
    "            theseHuMoments = cv2.HuMoments(moments)\n",
    "\n",
    "            # Log scale hu moments\n",
    "            for i in range(0,7):\n",
    "                theseHuMoments[i] = -1* copysign(1.0, theseHuMoments[i]) * log10(abs(theseHuMoments[i]))\n",
    "\n",
    "            huMoments.append(theseHuMoments.reshape((7,)))\n",
    "            \n",
    "        return huMoments"
   ]
  },
  {
   "cell_type": "markdown",
   "id": "99ad37cf",
   "metadata": {},
   "source": [
    "## Transformée de Fourier"
   ]
  },
  {
   "cell_type": "markdown",
   "id": "7f697b39",
   "metadata": {},
   "source": [
    "### Explications\n",
    "\n",
    "Voir le notebook"
   ]
  },
  {
   "cell_type": "code",
   "execution_count": 14,
   "id": "41d492bf",
   "metadata": {},
   "outputs": [],
   "source": [
    "class Grayscale():\n",
    "    def fit(self, X, y=None, sample_weight=None):\n",
    "        return self\n",
    "    \n",
    "    def to_grayscale(self, img):\n",
    "        h,w,_ = img.shape\n",
    "        result = np.ones((h,w)) * 255\n",
    "        result[:h,:w] = (np.sum(img, axis=2) / 3) / 255\n",
    "\n",
    "        return result\n",
    "    \n",
    "    def transform(self, X, copy=None):\n",
    "        return [self.to_grayscale(X[i]) for i in range(len(X))]"
   ]
  },
  {
   "cell_type": "code",
   "execution_count": 15,
   "id": "8469b67e",
   "metadata": {},
   "outputs": [],
   "source": [
    "class BoundaryTransform():\n",
    "    def fit(self, X, y=None, sample_weight=None):\n",
    "        max_h, max_w = 0, 0\n",
    "        for img in X:\n",
    "            h, w = img.shape\n",
    "            if h > max_h:\n",
    "                max_h = h\n",
    "\n",
    "            if w > max_w:\n",
    "                max_w = w\n",
    "\n",
    "        self.bounding_shape = (max_h, max_w)\n",
    "        \n",
    "        return self\n",
    "    \n",
    "    def adapt_to_bounding_shape(self, image, bounding_shape):\n",
    "        result = np.ones(bounding_shape)\n",
    "\n",
    "        h, w = image.shape\n",
    "        b_h, b_w = bounding_shape\n",
    "        max_h = h if b_h > h else b_h\n",
    "        max_w = w if b_w > w else b_w\n",
    "\n",
    "        result[:max_h,:max_w] = image[:max_h,:max_w]\n",
    "\n",
    "        return result\n",
    "    \n",
    "    def transform(self, X, copy=None):\n",
    "        bounded = []\n",
    "        for symbol in X:\n",
    "            bounded.append(self.adapt_to_bounding_shape(symbol, self.bounding_shape))\n",
    "            \n",
    "        return np.array(bounded)"
   ]
  },
  {
   "cell_type": "code",
   "execution_count": 16,
   "id": "3d1fa99a",
   "metadata": {},
   "outputs": [],
   "source": [
    "class GraySymbolExtractor():\n",
    "    def __init__(self):\n",
    "        self.masks = []\n",
    "        \n",
    "    def fit(self, X, y=None, sample_weight=None):\n",
    "        for symbol in X:\n",
    "            self.masks.append(symbol < 1)\n",
    "        \n",
    "        return self\n",
    "    \n",
    "    def transform(self, X, copy=None):\n",
    "        return [X[i].flatten() for i in range(len(X))]"
   ]
  },
  {
   "cell_type": "code",
   "execution_count": 17,
   "id": "9563c65e",
   "metadata": {},
   "outputs": [],
   "source": [
    "class FourierTransform():\n",
    "    def fourier_transform(self, img):\n",
    "        ft = np.fft.fftshift(np.fft.fft(img))\n",
    "        return np.log(abs(np.where(ft == 0, np.finfo(float).eps, ft)))\n",
    "\n",
    "    def fit(self, X, y=None, sample_weight=None):\n",
    "        \n",
    "        return self\n",
    "    \n",
    "    def transform(self, X, copy=None):\n",
    "        tmp = [self.fourier_transform(symbol).flatten() for symbol in X]\n",
    "        maxLen = len(max(tmp, key = lambda e : len(e)))\n",
    "        results = []\n",
    "        for res in tmp:\n",
    "            result = np.ones(maxLen) * np.finfo(np.float32).min\n",
    "            result[:len(res)] = res\n",
    "            results.append(result)\n",
    "        \n",
    "        return results"
   ]
  },
  {
   "cell_type": "markdown",
   "id": "b0552814",
   "metadata": {},
   "source": [
    "# Benchmark"
   ]
  },
  {
   "cell_type": "markdown",
   "id": "bdacbe3f",
   "metadata": {},
   "source": [
    "Pour chaque classifieur de la liste ` classifiers` on va tester chaque extracteur de caractéristiques de la liste `extractors` ainsi que l'early fusion de ces mêmes extracteurs un à un.\n",
    "\n",
    "Seront évalués sur le jeu de données test le score, le temps pour fit et le temps pour évaluer."
   ]
  },
  {
   "cell_type": "code",
   "execution_count": 18,
   "id": "215a2ce8",
   "metadata": {},
   "outputs": [],
   "source": [
    "import time\n",
    "import matplotlib.pyplot as plt\n",
    "from sklearn.dummy import DummyClassifier\n",
    "from sklearn.svm import LinearSVC, SVC\n",
    "from sklearn.neighbors import KNeighborsClassifier\n",
    "from sklearn.ensemble import RandomForestClassifier\n",
    "from sklearn.pipeline import Pipeline, FeatureUnion"
   ]
  },
  {
   "cell_type": "code",
   "execution_count": 19,
   "id": "9a20ce5b",
   "metadata": {},
   "outputs": [],
   "source": [
    "color_histo_step = (\"color histogram\", Pipeline([(\"extraction\", RGBSymbolExtractor()),\n",
    "                                                 (\"histogram\", ColorHistogram())]))"
   ]
  },
  {
   "cell_type": "code",
   "execution_count": 20,
   "id": "9fa72cfe",
   "metadata": {},
   "outputs": [],
   "source": [
    "fourier_step = (\"fourier\", Pipeline([(\"grasycale\", Grayscale()),\n",
    "                                     (\"boundaries\", BoundaryTransform()),\n",
    "                                     (\"extract\", GraySymbolExtractor()),\n",
    "                                     (\"fourier transform\", FourierTransform())]))"
   ]
  },
  {
   "cell_type": "code",
   "execution_count": 21,
   "id": "63be5959",
   "metadata": {},
   "outputs": [],
   "source": [
    "extractors = [color_histo_step, (\"hu moments\", HuMoments())]"
   ]
  },
  {
   "cell_type": "code",
   "execution_count": 22,
   "id": "b2d0996d",
   "metadata": {},
   "outputs": [],
   "source": [
    "classifiers = [\n",
    "    (\"dummy clf\", DummyClassifier()),\n",
    "    (\"LinearSVC clf\", LinearSVC()),\n",
    "    (\"KNeighbours clf\", KNeighborsClassifier()),\n",
    "    (\"SVC clf\", SVC()),\n",
    "    (\"Random Forest clf\", RandomForestClassifier()),\n",
    "]"
   ]
  },
  {
   "cell_type": "code",
   "execution_count": 23,
   "id": "d43e67a2",
   "metadata": {},
   "outputs": [],
   "source": [
    "def evaluate_pipeline(steps):\n",
    "    pipeline = Pipeline(steps)\n",
    "        \n",
    "    fit_time = 0\n",
    "    score_time = 0\n",
    "    score = 0\n",
    "    for _ in range(NB_STEP):\n",
    "        start = time.process_time()\n",
    "        pipeline.fit(X_train, y_train)\n",
    "        fit_time += time.process_time() - start\n",
    "\n",
    "        start = time.process_time()\n",
    "        score += pipeline.score(X_test, y_test)\n",
    "        score_time += time.process_time() - start\n",
    "\n",
    "    fit_time /= NB_STEP\n",
    "    score_time /= NB_STEP\n",
    "    score =  score / NB_STEP * 100\n",
    "\n",
    "    return score, fit_time, score_time"
   ]
  },
  {
   "cell_type": "code",
   "execution_count": 25,
   "id": "14969a01",
   "metadata": {},
   "outputs": [
    {
     "name": "stdout",
     "output_type": "stream",
     "text": [
      "Processing classifier: dummy clf\n",
      "Processing extractor: color histogram\n",
      "Processing extractors: color histogram + hu moments\n",
      "Processing extractor: hu moments\n",
      "Processing classifier: LinearSVC clf\n",
      "Processing extractor: color histogram\n",
      "Processing extractors: color histogram + hu moments\n"
     ]
    },
    {
     "name": "stderr",
     "output_type": "stream",
     "text": [
      "/home/nicolas/.local/lib/python3.10/site-packages/sklearn/svm/_base.py:1206: ConvergenceWarning: Liblinear failed to converge, increase the number of iterations.\n",
      "  warnings.warn(\n",
      "/home/nicolas/.local/lib/python3.10/site-packages/sklearn/svm/_base.py:1206: ConvergenceWarning: Liblinear failed to converge, increase the number of iterations.\n",
      "  warnings.warn(\n",
      "/home/nicolas/.local/lib/python3.10/site-packages/sklearn/svm/_base.py:1206: ConvergenceWarning: Liblinear failed to converge, increase the number of iterations.\n",
      "  warnings.warn(\n"
     ]
    },
    {
     "name": "stdout",
     "output_type": "stream",
     "text": [
      "Processing extractor: hu moments\n"
     ]
    },
    {
     "name": "stderr",
     "output_type": "stream",
     "text": [
      "/home/nicolas/.local/lib/python3.10/site-packages/sklearn/svm/_base.py:1206: ConvergenceWarning: Liblinear failed to converge, increase the number of iterations.\n",
      "  warnings.warn(\n",
      "/home/nicolas/.local/lib/python3.10/site-packages/sklearn/svm/_base.py:1206: ConvergenceWarning: Liblinear failed to converge, increase the number of iterations.\n",
      "  warnings.warn(\n",
      "/home/nicolas/.local/lib/python3.10/site-packages/sklearn/svm/_base.py:1206: ConvergenceWarning: Liblinear failed to converge, increase the number of iterations.\n",
      "  warnings.warn(\n"
     ]
    },
    {
     "name": "stdout",
     "output_type": "stream",
     "text": [
      "Processing classifier: KNeighbours clf\n",
      "Processing extractor: color histogram\n",
      "Processing extractors: color histogram + hu moments\n",
      "Processing extractor: hu moments\n",
      "Processing classifier: SVC clf\n",
      "Processing extractor: color histogram\n",
      "Processing extractors: color histogram + hu moments\n",
      "Processing extractor: hu moments\n",
      "Processing classifier: Random Forest clf\n",
      "Processing extractor: color histogram\n",
      "Processing extractors: color histogram + hu moments\n",
      "Processing extractor: hu moments\n"
     ]
    }
   ],
   "source": [
    "nb_tests = len(extractors) * len(classifiers)\n",
    "benchmark = []\n",
    "NB_STEP = 3\n",
    "for i in range(len(classifiers)):\n",
    "    clf = classifiers[i]\n",
    "    print(\"Processing classifier: \" + clf[0])\n",
    "    for j in range(len(extractors)):\n",
    "        extor = extractors[j]\n",
    "        print(\"Processing extractor: \" + extor[0])\n",
    "        \n",
    "        steps = [extor, clf]\n",
    "        score, fit_time, score_time = evaluate_pipeline(steps)\n",
    "        benchmark.append((clf[0],\n",
    "                          extor[0],\n",
    "                          \"{:.3f} %\".format(score),\n",
    "                          \"{:.3f} s\".format(fit_time),\n",
    "                          \"{:.3f} s\".format(score_time)))\n",
    "        \n",
    "        for k in range(j + 1, len(extractors)):\n",
    "            union_name = extor[0] + \" + \" + extractors[k][0]\n",
    "            print(\"Processing extractors: \" + union_name)\n",
    "            steps = [(union_name, FeatureUnion([extor, extractors[k]])), clf]\n",
    "            score, fit_time, score_time = evaluate_pipeline(steps)\n",
    "            benchmark.append((clf[0],\n",
    "                              union_name,\n",
    "                              \"{:.3f} %\".format(score),\n",
    "                              \"{:.3f} s\".format(fit_time),\n",
    "                              \"{:.3f} s\".format(score_time)))"
   ]
  },
  {
   "cell_type": "code",
   "execution_count": 26,
   "id": "17648a29",
   "metadata": {},
   "outputs": [
    {
     "data": {
      "image/png": "[encoded data removed]",
      "text/plain": [
       "<Figure size 432x288 with 1 Axes>"
      ]
     },
     "metadata": {
      "needs_background": "light"
     },
     "output_type": "display_data"
    }
   ],
   "source": [
    "fig, ax =plt.subplots()\n",
    "column_labels=[\"Extractor\", \"Classifier\", \"Score\", \"CPU fit time\", \"CPU score time\"]\n",
    "ax.axis(\"tight\")\n",
    "ax.axis(\"off\")\n",
    "table = ax.table(cellText=benchmark,\n",
    "                 colLabels=column_labels,\n",
    "                 loc=\"center\",\n",
    "                 cellLoc=\"center\")\n",
    "\n",
    "table.set_fontsize(20)\n",
    "table.scale(3, 3)\n",
    "\n",
    "plt.show()"
   ]
  },
  {
   "cell_type": "code",
   "execution_count": null,
   "id": "b2e36f9b",
   "metadata": {},
   "outputs": [],
   "source": []
  }
 ],
 "metadata": {
  "kernelspec": {
   "display_name": "Python 3 (ipykernel)",
   "language": "python",
   "name": "python3"
  },
  "language_info": {
   "codemirror_mode": {
    "name": "ipython",
    "version": 3
   },
   "file_extension": ".py",
   "mimetype": "text/x-python",
   "name": "python",
   "nbconvert_exporter": "python",
   "pygments_lexer": "ipython3",
   "version": "3.10.4"
  }
 },
 "nbformat": 4,
 "nbformat_minor": 5
}
