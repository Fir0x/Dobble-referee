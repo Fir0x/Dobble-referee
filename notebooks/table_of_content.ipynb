{
 "cells": [
  {
   "cell_type": "markdown",
   "id": "f92a1229",
   "metadata": {},
   "source": [
    "# Sommaire\n",
    "\n",
    "1. [Récupération des ressources](http://localhost:8888/notebooks/init_resources.ipynb)\n",
    "2. [Découpage train set / validation set](http://localhost:8888/notebooks/train_and_test_set.ipynb)\n",
    "3. [Histogramme couleur](http://localhost:8888/notebooks/color_histogram.ipynb)\n",
    "4. [Moments](http://localhost:8888/notebooks/moments.ipynb)\n",
    "5. [Pipeline et benchmark générique](http://localhost:8888/notebooks/pipeline.ipynb)\n",
    "6. [Benchmark sur les meta paramètres des classifieurs](http://localhost:8888/notebooks/classifier_optimization.ipynb)\n",
    "7. [Répartition des tâches](http://localhost:8888/notebooks/taches.ipynb)\n"
   ]
  }
 ],
 "metadata": {
  "kernelspec": {
   "display_name": "Python 3 (ipykernel)",
   "language": "python",
   "name": "python3"
  },
  "language_info": {
   "codemirror_mode": {
    "name": "ipython",
    "version": 3
   },
   "file_extension": ".py",
   "mimetype": "text/x-python",
   "name": "python",
   "nbconvert_exporter": "python",
   "pygments_lexer": "ipython3",
   "version": "3.10.4"
  }
 },
 "nbformat": 4,
 "nbformat_minor": 5
}
