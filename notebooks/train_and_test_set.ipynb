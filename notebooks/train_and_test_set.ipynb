{
 "cells": [
  {
   "cell_type": "code",
   "execution_count": null,
   "metadata": {},
   "outputs": [],
   "source": [
    "import numpy as np\n",
    "import imageio\n",
    "import os\n",
    "from sklearn.model_selection import train_test_split\n",
    "import matplotlib.pyplot as plt"
   ]
  },
  {
   "cell_type": "markdown",
   "metadata": {},
   "source": [
    "# Création du test set\n",
    "\n",
    "On sépare 20% de nos données pour créer un **test set** et un **training set** avec les 80% restants. On veut que les données soient réparties (autant de représentation de chaque illustration pour chacun des sets)"
   ]
  },
  {
   "cell_type": "markdown",
   "metadata": {},
   "source": [
    "## Création du dataset\n",
    "Création de **data** en chargeant toutes les images en une liste de numpy array et création de la liste **target** correspondante."
   ]
  },
  {
   "cell_type": "code",
   "execution_count": null,
   "metadata": {},
   "outputs": [],
   "source": [
    "PATH_TO_RESOURCES = '../resources/train/'\n",
    "NB_CLASSES = 57"
   ]
  },
  {
   "cell_type": "code",
   "execution_count": null,
   "metadata": {},
   "outputs": [],
   "source": [
    "X = []\n",
    "y = []\n",
    "for root, dirs, files in os.walk(PATH_TO_RESOURCES):\n",
    "    for name in files:\n",
    "        if name.endswith((\".png\")): # On s'intéresse à tous les fichiers PNG de nos dossiers\n",
    "            file_path = os.path.join(root, name)\n",
    "            dir_name = root.split(os.path.sep)[-1] # On extrait du path le nom de dossier du PNG lu qui correspond au nom de la classe\n",
    "            im = imageio.imread(file_path)\n",
    "            X.append(im)\n",
    "            y.append(dir_name)"
   ]
  },
  {
   "cell_type": "code",
   "execution_count": null,
   "metadata": {},
   "outputs": [],
   "source": [
    "def display_repartition(y_train, y_test):\n",
    "    \n",
    "    train = [0] * NB_CLASSES\n",
    "    test = [0] * NB_CLASSES\n",
    "    n = 0\n",
    "    \n",
    "    # \n",
    "    for i in range (len(y_train)):\n",
    "        train[int(y_train[i]) - 1]+=1\n",
    "        n+=1\n",
    "    for i in range (len(y_test)):\n",
    "        test[int(y_test[i]) - 1]+=1\n",
    "        n+=1\n",
    "        \n",
    "    for i in range (len(train)):\n",
    "        nb_data = train[i] + test[i]\n",
    "        train[i] = (train[i] / nb_data) * 100\n",
    "        test[i] = (test[i] / nb_data) * 100\n",
    "    x_axis = list(range(1, NB_CLASSES + 1))\n",
    "    plt.plot(x_axis, train, label=\"Pourcentage de données dans le train set\")\n",
    "    plt.plot(x_axis, test, label=\"Pourcentage de données dans le test set\")\n",
    "    plt.title(\"Répartition des données des classes entre le train set et le test set en pourcentage\")\n",
    "    plt.xlabel(\"Id de la classe\")\n",
    "    plt.ylabel(\"Pourcentage de données\")\n",
    "    plt.legend()\n",
    "    \n",
    "    ax = plt.subplot(111)\n",
    "    ax.legend(loc='center left', bbox_to_anchor=(1, 0.5))\n",
    "    box = ax.get_position()\n",
    "    \n",
    "    plt.ylim(-5,105)\n",
    "    plt.show()\n",
    "    "
   ]
  },
  {
   "cell_type": "markdown",
   "metadata": {},
   "source": [
    "**Répartition aléatoire du train set**\n",
    "On constate que la répartition n'est pas très bonne : certaines classes ne sont pas représentée dans le test set alors que d'autres sont sous représentées dans le train set."
   ]
  },
  {
   "cell_type": "code",
   "execution_count": null,
   "metadata": {},
   "outputs": [],
   "source": [
    "X_train, X_test, y_train, y_test = train_test_split(X, y, test_size=0.2, random_state=42)\n",
    "display_repartition(y_train, y_test)"
   ]
  },
  {
   "cell_type": "markdown",
   "metadata": {},
   "source": [
    "**Activation de stratify**\n",
    "La répartition des données entre le train set et le test set est parfaite."
   ]
  },
  {
   "cell_type": "code",
   "execution_count": null,
   "metadata": {
    "scrolled": true
   },
   "outputs": [],
   "source": [
    "X_train, X_test, y_train, y_test = train_test_split(X, y, test_size=0.2, stratify=y,random_state=42)\n",
    "display_repartition(y_train, y_test)"
   ]
  },
  {
   "cell_type": "code",
   "execution_count": null,
   "metadata": {},
   "outputs": [],
   "source": []
  }
 ],
 "metadata": {
  "kernelspec": {
   "display_name": "Python 3 (ipykernel)",
   "language": "python",
   "name": "python3"
  },
  "language_info": {
   "codemirror_mode": {
    "name": "ipython",
    "version": 3
   },
   "file_extension": ".py",
   "mimetype": "text/x-python",
   "name": "python",
   "nbconvert_exporter": "python",
   "pygments_lexer": "ipython3",
   "version": "3.10.4"
  }
 },
 "nbformat": 4,
 "nbformat_minor": 4
}
