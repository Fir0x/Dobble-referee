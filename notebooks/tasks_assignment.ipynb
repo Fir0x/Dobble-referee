{
 "cells": [
  {
   "cell_type": "markdown",
   "id": "632bad90",
   "metadata": {},
   "source": [
    "# Répartition des tâches"
   ]
  },
  {
   "cell_type": "markdown",
   "id": "4d87696b",
   "metadata": {},
   "source": [
    "| Tâche                             | Assignation      |\n",
    "| :---                              |    :----         |\n",
    "| Pipeline                          | Nicolas I        |\n",
    "| Fourier                           | Nicolas I        |\n",
    "| Histogramme couleur               | Adrien           |\n",
    "| Récupération des données          | Adèle            |\n",
    "| Moments                           | Adrien           |\n",
    "| Benchmark meta paramètres         | Nicolas L        |\n",
    "| Benchmark basique                 | Nicolas I        |\n",
    "| Séparation train set / test set   | Adèle            |"
   ]
  }
 ],
 "metadata": {
  "kernelspec": {
   "display_name": "Python 3 (ipykernel)",
   "language": "python",
   "name": "python3"
  },
  "language_info": {
   "codemirror_mode": {
    "name": "ipython",
    "version": 3
   },
   "file_extension": ".py",
   "mimetype": "text/x-python",
   "name": "python",
   "nbconvert_exporter": "python",
   "pygments_lexer": "ipython3",
   "version": "3.10.4"
  }
 },
 "nbformat": 4,
 "nbformat_minor": 5
}
