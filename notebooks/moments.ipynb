{
 "cells": [
  {
   "cell_type": "code",
   "execution_count": null,
   "id": "039da6b1",
   "metadata": {},
   "outputs": [],
   "source": [
    "import os.path\n",
    "from os import path\n",
    "import requests\n",
    "import tarfile\n",
    "import shutil"
   ]
  },
  {
   "cell_type": "code",
   "execution_count": null,
   "id": "ff566893",
   "metadata": {},
   "outputs": [],
   "source": [
    "PATH_TO_RESOURCES = \"../resources\""
   ]
  },
  {
   "cell_type": "markdown",
   "id": "a013c3bf",
   "metadata": {},
   "source": [
    "## Récupération des ressources\n",
    "\n",
    "**param force** : 1 si l'on veut télécharger la donnée m\n",
    "\n",
    "1. Controlle l'existence d'un dossier de **resources** situé à la racine du projet\n",
    "2. Si ce dossier existe et que **force == 0** alors il n'y a rien à faire\n",
    "3. Sinon, le dossier est crée, l'archive est téléchargée et décompréssée puis supprimée."
   ]
  },
  {
   "cell_type": "code",
   "execution_count": null,
   "id": "b4573ac9",
   "metadata": {},
   "outputs": [],
   "source": [
    "# Check if a local resources file exists.\n",
    "# If not or force=True, creates the files and uploads data.\n",
    "def init_resources(force = False):\n",
    "    PATH_TO_RESOURCES = \"../resources\"\n",
    "    \n",
    "    if (path.exists(PATH_TO_RESOURCES) and path.isdir(PATH_TO_RESOURCES)):\n",
    "        if not force:\n",
    "            print(\"Folder 'resources' found.\")\n",
    "            return\n",
    "        else:\n",
    "            shutil.rmtree(PATH_TO_RESOURCES)\n",
    "    \n",
    "    # Create folder\n",
    "    os.mkdir(PATH_TO_RESOURCES)\n",
    "    print(\"[1/4] Folder '../resources' created.\")\n",
    "    \n",
    "    # Download data\n",
    "    url_data = 'https://www.lrde.epita.fr/~jchazalo/SHARE/dobble-symbols-dataset-train.tar.gz'\n",
    "    url_dobble_img = 'https://boardgamereview.co.uk/wp-content/uploads/2020/02/Dobble-cards-pile-1.png'\n",
    "    TAR_PATH = os.path.join(PATH_TO_RESOURCES, 'dobble-symbols-dataset-train.tar.gz')\n",
    "    IMG_PATH = os.path.join(PATH_TO_RESOURCES, 'dobble_ref.png')\n",
    "    response = requests.get(url_data, stream=True)\n",
    "    if response.status_code == 200:\n",
    "        with open(TAR_PATH, 'wb') as f:\n",
    "            f.write(response.raw.read())\n",
    "    response = requests.get(url_dobble_img, stream=True)\n",
    "    if response.status_code == 200:\n",
    "        with open(IMG_PATH, 'wb') as f:\n",
    "            f.write(response.raw.read())\n",
    "            print(\"[2/4] Resources files uploaded.\")\n",
    "    \n",
    "    # Extract from tar\n",
    "    tar = tarfile.open(TAR_PATH)\n",
    "    tar.extractall(PATH_TO_RESOURCES) # specify which folder to extract to\n",
    "    tar.close()\n",
    "    print(\"[3/4] Resources files extracted.\")\n",
    "    \n",
    "    # Delete dowloaded tar\n",
    "    os.remove(TAR_PATH)\n",
    "    print(\"[4/4] Tarball removed.\")"
   ]
  },
  {
   "cell_type": "code",
   "execution_count": null,
   "id": "5cee7ce5",
   "metadata": {
    "scrolled": true
   },
   "outputs": [],
   "source": [
    "init_resources(0)"
   ]
  },
  {
   "cell_type": "markdown",
   "id": "0dae78d7",
   "metadata": {},
   "source": [
    "## Transformateurs"
   ]
  },
  {
   "cell_type": "markdown",
   "id": "882d53a7",
   "metadata": {},
   "source": [
    "### Extraction de la zone d'intérêt\n",
    "1. Récupération des données d'entrainement\n",
    "2. Calcul des masques\n",
    "3. Extraction des pixels à utiliser dans chaque image"
   ]
  },
  {
   "cell_type": "markdown",
   "id": "29a6cbfc",
   "metadata": {},
   "source": [
    "#### Explications"
   ]
  },
  {
   "cell_type": "code",
   "execution_count": null,
   "id": "6b5cb468",
   "metadata": {},
   "outputs": [],
   "source": [
    "import numpy as np\n",
    "import cv2\n",
    "import matplotlib.pyplot as plt\n",
    "%matplotlib inline\n",
    "import os"
   ]
  },
  {
   "cell_type": "code",
   "execution_count": null,
   "id": "eded4403",
   "metadata": {},
   "outputs": [],
   "source": [
    "def load_image(path):\n",
    "    return cv2.cvtColor(cv2.imread(path), cv2.COLOR_BGR2RGB)"
   ]
  },
  {
   "cell_type": "code",
   "execution_count": null,
   "id": "8bce285b",
   "metadata": {},
   "outputs": [],
   "source": [
    "# define a function to compute the mask of a bubble\n",
    "def symbol2mask(symbol):\n",
    "    return np.sum(symbol, axis=2) < 255 * 3"
   ]
  },
  {
   "cell_type": "code",
   "execution_count": null,
   "id": "91427614",
   "metadata": {},
   "outputs": [],
   "source": [
    "symbol_files = !ls $PATH_TO_RESOURCES/**/c*.png  | sort\n",
    "symbol_files"
   ]
  },
  {
   "cell_type": "code",
   "execution_count": null,
   "id": "4027e629",
   "metadata": {},
   "outputs": [],
   "source": [
    "symbols = [load_image(symbol_file) for symbol_file in symbol_files]"
   ]
  },
  {
   "cell_type": "code",
   "execution_count": null,
   "metadata": {},
   "outputs": [],
   "source": [
    "symbols_gray = [ cv2.imread(symbol_file, cv2.IMREAD_GRAYSCALE) for symbol_file in symbol_files]"
   ]
  },
  {
   "cell_type": "code",
   "execution_count": null,
   "id": "29c4a8d4",
   "metadata": {},
   "outputs": [],
   "source": [
    "symbols_masks = [symbol2mask(symbol) for symbol in symbols]"
   ]
  },
  {
   "cell_type": "markdown",
   "metadata": {},
   "source": [
    "## Moments"
   ]
  },
  {
   "cell_type": "code",
   "execution_count": null,
   "metadata": {},
   "outputs": [],
   "source": [
    "import cv2\n",
    "from math import copysign, log10"
   ]
  },
  {
   "cell_type": "code",
   "execution_count": null,
   "metadata": {},
   "outputs": [],
   "source": [
    "# Calculate Moments\n",
    "moments = cv2.moments(symbols_gray[0])\n",
    "# Calculate Hu Moments\n",
    "huMoments = cv2.HuMoments(moments)\n",
    "\n",
    "# Log scale hu moments\n",
    "for i in range(0,7):\n",
    "    huMoments[i] = -1* copysign(1.0, huMoments[i]) * log10(abs(huMoments[i]))\n",
    "\n",
    "huMoments"
   ]
  },
  {
   "cell_type": "code",
   "execution_count": null,
   "metadata": {},
   "outputs": [],
   "source": [
    "huMoments"
   ]
  },
  {
   "cell_type": "code",
   "execution_count": null,
   "metadata": {},
   "outputs": [],
   "source": [
    "X_gray = [cv2.cvtColor(x, cv2.COLOR_BGR2GRAY) for x in symbols]"
   ]
  },
  {
   "cell_type": "code",
   "execution_count": null,
   "metadata": {},
   "outputs": [],
   "source": []
  }
 ],
 "metadata": {
  "interpreter": {
   "hash": "e7370f93d1d0cde622a1f8e1c04877d8463912d04d973331ad4851f04de6915a"
  },
  "kernelspec": {
   "display_name": "Python 3.10.2 64-bit",
   "language": "python",
   "name": "python3"
  },
  "language_info": {
   "codemirror_mode": {
    "name": "ipython",
    "version": 3
   },
   "file_extension": ".py",
   "mimetype": "text/x-python",
   "name": "python",
   "nbconvert_exporter": "python",
   "pygments_lexer": "ipython3",
   "version": "3.10.2"
  },
  "orig_nbformat": 4
 },
 "nbformat": 4,
 "nbformat_minor": 2
}
