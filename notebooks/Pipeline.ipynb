{
 "cells": [
  {
   "cell_type": "code",
   "execution_count": null,
   "id": "039da6b1",
   "metadata": {},
   "outputs": [],
   "source": [
    "import os.path\n",
    "from os import path\n",
    "import requests\n",
    "import tarfile\n",
    "import shutil"
   ]
  },
  {
   "cell_type": "code",
   "execution_count": null,
   "id": "ff566893",
   "metadata": {},
   "outputs": [],
   "source": [
    "PATH_TO_RESOURCES = \"../resources\""
   ]
  },
  {
   "cell_type": "markdown",
   "id": "a013c3bf",
   "metadata": {},
   "source": [
    "## Récupération des ressources\n",
    "\n",
    "**param force** : 1 si l'on veut télécharger la donnée m\n",
    "\n",
    "1. Controlle l'existence d'un dossier de **resources** situé à la racine du projet\n",
    "2. Si ce dossier existe et que **force == 0** alors il n'y a rien à faire\n",
    "3. Sinon, le dossier est crée, l'archive est téléchargée et décompréssée puis supprimée."
   ]
  },
  {
   "cell_type": "code",
   "execution_count": null,
   "id": "b4573ac9",
   "metadata": {},
   "outputs": [],
   "source": [
    "# Check if a local resources file exists.\n",
    "# If not or force=True, creates the files and uploads data.\n",
    "def init_resources(force = False):\n",
    "    PATH_TO_RESOURCES = \"../resources\"\n",
    "    \n",
    "    if (path.exists(PATH_TO_RESOURCES) and path.isdir(PATH_TO_RESOURCES)):\n",
    "        if not force:\n",
    "            print(\"Folder 'resources' found.\")\n",
    "            return\n",
    "        else:\n",
    "            shutil.rmtree(PATH_TO_RESOURCES)\n",
    "    \n",
    "    # Create folder\n",
    "    os.mkdir(PATH_TO_RESOURCES)\n",
    "    print(\"[1/4] Folder '../resources' created.\")\n",
    "    \n",
    "    # Download data\n",
    "    url_data = 'https://www.lrde.epita.fr/~jchazalo/SHARE/dobble-symbols-dataset-train.tar.gz'\n",
    "    url_dobble_img = 'https://boardgamereview.co.uk/wp-content/uploads/2020/02/Dobble-cards-pile-1.png'\n",
    "    TAR_PATH = os.path.join(PATH_TO_RESOURCES, 'dobble-symbols-dataset-train.tar.gz')\n",
    "    IMG_PATH = os.path.join(PATH_TO_RESOURCES, 'dobble_ref.png')\n",
    "    response = requests.get(url_data, stream=True)\n",
    "    if response.status_code == 200:\n",
    "        with open(TAR_PATH, 'wb') as f:\n",
    "            f.write(response.raw.read())\n",
    "    response = requests.get(url_dobble_img, stream=True)\n",
    "    if response.status_code == 200:\n",
    "        with open(IMG_PATH, 'wb') as f:\n",
    "            f.write(response.raw.read())\n",
    "            print(\"[2/4] Resources files uploaded.\")\n",
    "    \n",
    "    # Extract from tar\n",
    "    tar = tarfile.open(TAR_PATH)\n",
    "    tar.extractall(PATH_TO_RESOURCES) # specify which folder to extract to\n",
    "    tar.close()\n",
    "    print(\"[3/4] Resources files extracted.\")\n",
    "    \n",
    "    # Delete dowloaded tar\n",
    "    os.remove(TAR_PATH)\n",
    "    print(\"[4/4] Tarball removed.\")"
   ]
  },
  {
   "cell_type": "code",
   "execution_count": null,
   "id": "5cee7ce5",
   "metadata": {
    "scrolled": true
   },
   "outputs": [],
   "source": [
    "init_resources(0)"
   ]
  },
  {
   "cell_type": "markdown",
   "id": "0dae78d7",
   "metadata": {},
   "source": [
    "# Transformateurs"
   ]
  },
  {
   "cell_type": "markdown",
   "id": "882d53a7",
   "metadata": {},
   "source": [
    "## Extraction de la zone d'intérêt\n",
    "1. Récupération des données d'entrainement\n",
    "2. Calcul des masques\n",
    "3. Extraction des pixels à utiliser dans chaque image"
   ]
  },
  {
   "cell_type": "markdown",
   "id": "29a6cbfc",
   "metadata": {},
   "source": [
    "### Explications"
   ]
  },
  {
   "cell_type": "code",
   "execution_count": null,
   "id": "6b5cb468",
   "metadata": {},
   "outputs": [],
   "source": [
    "import numpy as np\n",
    "import cv2\n",
    "import matplotlib.pyplot as plt\n",
    "%matplotlib inline\n",
    "import os"
   ]
  },
  {
   "cell_type": "code",
   "execution_count": null,
   "id": "eded4403",
   "metadata": {},
   "outputs": [],
   "source": [
    "def load_image(path):\n",
    "    return cv2.cvtColor(cv2.imread(path), cv2.COLOR_BGR2RGB)"
   ]
  },
  {
   "cell_type": "code",
   "execution_count": null,
   "id": "8bce285b",
   "metadata": {},
   "outputs": [],
   "source": [
    "# define a function to compute the mask of a bubble\n",
    "def symbol2mask(symbol):\n",
    "    return np.sum(symbol, axis=2) < 255 * 3"
   ]
  },
  {
   "cell_type": "code",
   "execution_count": null,
   "id": "91427614",
   "metadata": {},
   "outputs": [],
   "source": [
    "symbol_files = !ls $PATH_TO_RESOURCES/**/c*.png  | sort\n",
    "symbol_files"
   ]
  },
  {
   "cell_type": "code",
   "execution_count": null,
   "id": "4027e629",
   "metadata": {},
   "outputs": [],
   "source": [
    "symbols = [load_image(symbol_file) for symbol_file in symbol_files]"
   ]
  },
  {
   "cell_type": "code",
   "execution_count": null,
   "id": "29c4a8d4",
   "metadata": {},
   "outputs": [],
   "source": [
    "symbols_masks = [symbol2mask(symbol) for symbol in symbols]"
   ]
  },
  {
   "cell_type": "code",
   "execution_count": null,
   "id": "08b20e4a",
   "metadata": {
    "scrolled": true
   },
   "outputs": [],
   "source": [
    "plt.figure(figsize=(8,16 * 10))\n",
    "for ii in range(57):\n",
    "    plt.subplot(57,2,1+2*ii)\n",
    "    plt.imshow(symbols[ii * 5])\n",
    "    plt.axis(\"off\")\n",
    "    if ii == 0:\n",
    "        plt.title(\"Original\")\n",
    "    plt.subplot(57,2,2+2*ii)\n",
    "    plt.imshow(symbols_masks[ii * 5])\n",
    "    plt.axis(\"off\")\n",
    "    if ii == 0:\n",
    "        plt.title(\"Recolored\")"
   ]
  },
  {
   "cell_type": "markdown",
   "id": "a395b2ed",
   "metadata": {},
   "source": [
    "### Etape de pipeline"
   ]
  },
  {
   "cell_type": "code",
   "execution_count": null,
   "id": "07a06b15",
   "metadata": {},
   "outputs": [],
   "source": [
    "class SymbolExtractor():\n",
    "    def __init__(self):\n",
    "        self.masks = []\n",
    "        \n",
    "    def fit(self, X, y=None, sample_weight=None):\n",
    "        for symbol in X:\n",
    "            self.masks.append(np.sum(symbol, axis=2) < 255 * 3)\n",
    "        \n",
    "        return self\n",
    "    \n",
    "    def transform(self, X, copy=None):\n",
    "        return [X[i][self.masks[i]] for i in range(len(X))]"
   ]
  },
  {
   "cell_type": "markdown",
   "id": "d26af6c2",
   "metadata": {},
   "source": [
    "## Réduction des couleurs\n",
    "Les images sont composées de nombreuses  nuances de couleurs qui ne sont pas forcément nécessaires. On va donc chercher à réduire le nombre couleurs différentes."
   ]
  },
  {
   "cell_type": "markdown",
   "id": "dcd6fd62",
   "metadata": {},
   "source": [
    "### Explications"
   ]
  },
  {
   "cell_type": "code",
   "execution_count": null,
   "id": "91c19fdc",
   "metadata": {},
   "outputs": [],
   "source": [
    "from sklearn.cluster import KMeans, MiniBatchKMeans"
   ]
  },
  {
   "cell_type": "code",
   "execution_count": null,
   "id": "46afa1ce",
   "metadata": {},
   "outputs": [],
   "source": [
    "sample_pixels = symbols[0][symbols_masks[0]]\n",
    "for i in range(1, len(symbols)):\n",
    "    sample_pixels = np.concatenate((sample_pixels, symbols[i][symbols_masks[i]]), axis=0)\n",
    "\n",
    "sample_pixels.shape, sample_pixels.dtype"
   ]
  },
  {
   "cell_type": "code",
   "execution_count": null,
   "id": "428ed2ae",
   "metadata": {},
   "outputs": [],
   "source": [
    "def find_and_plot_cluster_centers(clusters_nb):\n",
    "    # Train kmeans\n",
    "    kmeans = MiniBatchKMeans(clusters_nb, random_state=42)\n",
    "    kmeans.fit(sample_pixels)\n",
    "    \n",
    "    # Create the LUT\n",
    "    color_lut = np.uint8(kmeans.cluster_centers_)\n",
    "    \n",
    "    # Sort it by hue\n",
    "    hue_lut = cv2.cvtColor(color_lut.reshape(1,color_lut.shape[0], color_lut.shape[1]), cv2.COLOR_BGR2HSV)[:, :, 0]\n",
    "    indices = hue_lut.argsort(axis=None)\n",
    "    color_lut_sorted = color_lut[indices]\n",
    "    \n",
    "    # Plot it\n",
    "    plt.bar(np.arange(len(color_lut)), \n",
    "        np.ones(len(color_lut)), \n",
    "        color=color_lut_sorted/255)\n",
    "    \n",
    "    return kmeans, color_lut"
   ]
  },
  {
   "cell_type": "code",
   "execution_count": null,
   "id": "211022b6",
   "metadata": {},
   "outputs": [],
   "source": [
    "%%time\n",
    "# let us display the images\n",
    "plt.figure(figsize=(8,30))\n",
    "max_clusters_nb = 30\n",
    "variances = np.zeros(max_clusters_nb - 1)\n",
    "\n",
    "for ii in range(1, max_clusters_nb):\n",
    "    plt.subplot(max_clusters_nb, 1, ii)\n",
    "    \n",
    "    kmeans, color_lut = find_and_plot_cluster_centers(ii)\n",
    "    plt.title(ii)\n",
    "    \n",
    "    variances[ii - 1] = kmeans.inertia_"
   ]
  },
  {
   "cell_type": "code",
   "execution_count": null,
   "id": "b3cb4545",
   "metadata": {},
   "outputs": [],
   "source": [
    "from matplotlib.ticker import MaxNLocator"
   ]
  },
  {
   "cell_type": "code",
   "execution_count": null,
   "id": "b30a08d4",
   "metadata": {},
   "outputs": [],
   "source": [
    "plt.plot(np.arange(1, max_clusters_nb), variances)\n",
    "plt.xlabel(\"Number of clusters\")\n",
    "plt.ylabel(\"Variance\")\n",
    "plt.title(\"Variance in function of the number of clusters\")\n",
    "plt.gca().xaxis.set_major_locator(MaxNLocator(integer=True))"
   ]
  },
  {
   "cell_type": "markdown",
   "id": "5e52293b",
   "metadata": {},
   "source": [
    "6 clusters semble être un bon choix.\n",
    "\n",
    "Vérifions cette supposition."
   ]
  },
  {
   "cell_type": "code",
   "execution_count": null,
   "id": "828dd34a",
   "metadata": {},
   "outputs": [],
   "source": [
    "def recolor_masked_know(symbol, symbol_mask, clusterer, color_lut):\n",
    "    recolored = np.ones_like(symbol) * 255\n",
    "    recolored[symbol_mask] = color_lut[np.uint8(clusterer.predict(symbol[symbol_mask]))]\n",
    "    return recolored"
   ]
  },
  {
   "cell_type": "code",
   "execution_count": null,
   "id": "71b5c340",
   "metadata": {
    "scrolled": true
   },
   "outputs": [],
   "source": [
    "%%time\n",
    "# reduce the color of all bubbles\n",
    "# This is exactly what we did for the full poster, but applied to each bubble AND keeping background as black.\n",
    "kmeans, color_lut = find_and_plot_cluster_centers(6)\n",
    "symbols_quant = [recolor_masked_know(symbols[i], symbols_masks[i], kmeans, color_lut) for i in range(len(symbols))]"
   ]
  },
  {
   "cell_type": "code",
   "execution_count": null,
   "id": "25f0a38f",
   "metadata": {},
   "outputs": [],
   "source": [
    "# let us display the images\n",
    "plt.figure(figsize=(8,16 * 5))\n",
    "for ii in range(20):\n",
    "    plt.subplot(57,2,1+2*ii)\n",
    "    plt.imshow(symbols[ii * 5])\n",
    "    plt.axis(\"off\")\n",
    "    if ii == 0:\n",
    "        plt.title(\"Original\")\n",
    "    plt.subplot(57,2,2+2*ii)\n",
    "    plt.imshow(symbols_quant[ii * 5])\n",
    "    plt.axis(\"off\")\n",
    "    if ii == 0:\n",
    "        plt.title(\"Recolored\")"
   ]
  },
  {
   "cell_type": "markdown",
   "id": "f5eb089b",
   "metadata": {},
   "source": [
    "On peut remarquer que le vert et le violet se confondent."
   ]
  },
  {
   "cell_type": "code",
   "execution_count": null,
   "id": "203dd213",
   "metadata": {
    "scrolled": true
   },
   "outputs": [],
   "source": [
    "kmeans, color_lut = find_and_plot_cluster_centers(8)\n",
    "symbols_quant = [recolor_masked_know(symbols[i], symbols_masks[i], kmeans, color_lut) for i in range(len(symbols))]"
   ]
  },
  {
   "cell_type": "markdown",
   "id": "43660b6b",
   "metadata": {},
   "source": [
    "Pour 8 clusters le violet apparaît."
   ]
  },
  {
   "cell_type": "code",
   "execution_count": null,
   "id": "eacba0fb",
   "metadata": {},
   "outputs": [],
   "source": [
    "plt.figure(figsize=(8,16 * 5))\n",
    "for ii in range(20):\n",
    "    plt.subplot(57,2,1+2*ii)\n",
    "    plt.imshow(symbols[ii * 5])\n",
    "    plt.axis(\"off\")\n",
    "    if ii == 0:\n",
    "        plt.title(\"Original\")\n",
    "    plt.subplot(57,2,2+2*ii)\n",
    "    plt.imshow(symbols_quant[ii * 5])\n",
    "    plt.axis(\"off\")\n",
    "    if ii == 0:\n",
    "        plt.title(\"Recolored\")"
   ]
  },
  {
   "cell_type": "markdown",
   "id": "9e8b1d6b",
   "metadata": {},
   "source": [
    "On observe des résultats plus satisfaisants qu'avec 6 clusters, on va donc en utiliser 8."
   ]
  },
  {
   "cell_type": "markdown",
   "id": "2bfc834e",
   "metadata": {},
   "source": [
    "### Etape de pipeline"
   ]
  },
  {
   "cell_type": "code",
   "execution_count": null,
   "id": "11a6faaa",
   "metadata": {},
   "outputs": [],
   "source": [
    "class ColorReducer():\n",
    "    def __init__(self):\n",
    "        self.kmeans = MiniBatchKMeans(8)\n",
    "        self.masks = None\n",
    "        self.lut = None\n",
    "        \n",
    "    def fit(self, X, y=None, sample_weight=None):\n",
    "        self.masks = [np.sum(X[0], axis=1) < 255 * 3]\n",
    "        sample_pixels = X[0][self.masks[0]]\n",
    "        for i in range(1, len(X)):\n",
    "            self.masks.append(np.sum(X[i], axis=1) < 255 * 3)\n",
    "            sample_pixels = np.concatenate((sample_pixels, X[i][self.masks[i]]), axis=0)\n",
    "        # Train kmeans\n",
    "        self.kmeans.fit(sample_pixels)\n",
    "\n",
    "        # Create the LUT\n",
    "        self.lut = np.uint8(self.kmeans.cluster_centers_)\n",
    "        \n",
    "        return self\n",
    "    \n",
    "    def transform(self, X, copy=None):\n",
    "        recoloreds = []\n",
    "        for i in range(len(X)):\n",
    "            recolored = np.ones_like(X[i]) * 255\n",
    "            recolored[self.masks[i]] = self.lut[np.uint8(self.kmeans.predict(X[i]))]\n",
    "            recoloreds.append(recolored)\n",
    "            \n",
    "        return recoloreds"
   ]
  },
  {
   "cell_type": "markdown",
   "id": "b6d066d8",
   "metadata": {},
   "source": [
    "# Extraction de caractéristiques"
   ]
  },
  {
   "cell_type": "markdown",
   "id": "132ba408",
   "metadata": {},
   "source": [
    "## Histogramme couleur"
   ]
  },
  {
   "cell_type": "markdown",
   "id": "bd0b2741",
   "metadata": {},
   "source": [
    "### Explications"
   ]
  },
  {
   "cell_type": "code",
   "execution_count": null,
   "id": "bf2279e8",
   "metadata": {},
   "outputs": [],
   "source": [
    "def symbol2hist(symbol, symbol_mask, clusterer):\n",
    "    return np.bincount(np.uint8(clusterer.predict(symbol[symbol_mask])), minlength = clusterer.n_clusters) / np.count_nonzero(symbol_mask)"
   ]
  },
  {
   "cell_type": "code",
   "execution_count": null,
   "id": "7a7d8051",
   "metadata": {},
   "outputs": [],
   "source": [
    "color_histograms = [symbol2hist(symbols_quant[i], symbols_masks[i], kmeans) for i in range(len(symbols))]"
   ]
  },
  {
   "cell_type": "code",
   "execution_count": null,
   "id": "b9c4be13",
   "metadata": {},
   "outputs": [],
   "source": [
    "colors_for_bars = color_lut/255  # matplotlib colors are RGB values scaled to [0,1]\n",
    "for ii in range(20):\n",
    "    plt.figure(figsize=(8,4))\n",
    "    plt.subplot(1,3,1)\n",
    "    symbol_index = ii * 5\n",
    "    plt.imshow(symbols[symbol_index])\n",
    "    plt.axis('off'); plt.title(\"Original\")\n",
    "    plt.subplot(1,3,2)\n",
    "    plt.imshow(symbols_quant[symbol_index])\n",
    "    plt.axis('off'); plt.title(\"Recolored\")\n",
    "    plt.subplot(1,3,3, aspect=len(color_histograms[0]))\n",
    "    plt.ylim(0, 1)\n",
    "    plt.bar(range(len(color_histograms[symbol_index])), \n",
    "            color_histograms[symbol_index]/color_histograms[symbol_index].max(), \n",
    "            color=colors_for_bars)\n",
    "    plt.xticks([]); plt.title(\"Histogram\")\n",
    "    plt.show()"
   ]
  },
  {
   "cell_type": "markdown",
   "id": "bbad92c2",
   "metadata": {},
   "source": [
    "### Etape de pipeline"
   ]
  },
  {
   "cell_type": "code",
   "execution_count": null,
   "id": "5b5a0ca3",
   "metadata": {},
   "outputs": [],
   "source": [
    "class ColorHistogram():\n",
    "    def __init__(self):\n",
    "        self.kmeans = MiniBatchKMeans(8)\n",
    "        \n",
    "    def fit(self, X, y=None, sample_weight=None):\n",
    "        self.masks = [np.sum(X[0], axis=1) < 255 * 3]\n",
    "        sample_pixels = X[0][self.masks[0]]\n",
    "        for i in range(1, len(X)):\n",
    "            self.masks.append(np.sum(X[i], axis=1) < 255 * 3)\n",
    "            sample_pixels = np.concatenate((sample_pixels, X[i][self.masks[i]]), axis=0)\n",
    "        # Train kmeans\n",
    "        self.kmeans.fit(sample_pixels)\n",
    "        \n",
    "        return self\n",
    "    \n",
    "    def transform(self, X, copy=None):\n",
    "        histograms = []\n",
    "        for i in range(len(X)):\n",
    "            histo = np.bincount(np.uint8(self.kmeans.predict(X[i])),\n",
    "                        minlength = self.kmeans.n_clusters) / np.count_nonzero(self.masks[i])\n",
    "            histograms.append(histo)\n",
    "            \n",
    "        return histograms"
   ]
  },
  {
   "cell_type": "markdown",
   "id": "c82431c9",
   "metadata": {},
   "source": [
    "# Classifieurs"
   ]
  },
  {
   "cell_type": "code",
   "execution_count": null,
   "id": "50f6cf74",
   "metadata": {},
   "outputs": [],
   "source": [
    "import re"
   ]
  },
  {
   "cell_type": "code",
   "execution_count": null,
   "id": "d090884a",
   "metadata": {},
   "outputs": [],
   "source": [
    "symbols_labels = np.array([re.search(\".+/([0-9]{2})/.+\\.png\", symbol_file).group(1) for symbol_file in symbol_files])"
   ]
  },
  {
   "cell_type": "code",
   "execution_count": null,
   "id": "9a20ce5b",
   "metadata": {},
   "outputs": [],
   "source": [
    "pipeline_transformers = [(\"extraction\", SymbolExtractor()), (\"color reduction\", ColorReducer())]"
   ]
  },
  {
   "cell_type": "markdown",
   "id": "f2fad9dd",
   "metadata": {},
   "source": [
    "## Classifieur: Dummy classifier"
   ]
  },
  {
   "cell_type": "markdown",
   "id": "21b5c021",
   "metadata": {},
   "source": [
    "### Démonstration"
   ]
  },
  {
   "cell_type": "code",
   "execution_count": null,
   "id": "1de18723",
   "metadata": {},
   "outputs": [],
   "source": [
    "from sklearn.dummy import DummyClassifier\n",
    "from sklearn.pipeline import Pipeline"
   ]
  },
  {
   "cell_type": "code",
   "execution_count": null,
   "id": "2d96588d",
   "metadata": {
    "scrolled": false
   },
   "outputs": [],
   "source": [
    "dummy_clf  = DummyClassifier()\n",
    "dummy_clf.fit(color_histograms, symbols_labels)\n",
    "dummy_clf.predict(color_histograms)\n",
    "\n",
    "steps = pipeline_transformers + [(\"color histogram\", ColorHistogram()), (\"dummy clf\", DummyClassifier())]\n",
    "dummy_pipeline = Pipeline(steps, verbose=True)\n",
    "dummy_pipeline.fit(symbols, symbols_labels)\n",
    "dummy_pipeline.score(symbols, symbols_labels)"
   ]
  },
  {
   "cell_type": "markdown",
   "id": "b0552814",
   "metadata": {},
   "source": [
    "# Benchmark"
   ]
  },
  {
   "cell_type": "code",
   "execution_count": null,
   "id": "63be5959",
   "metadata": {},
   "outputs": [],
   "source": [
    "extractors = [(\"color histogram\", ColorHistogram())]"
   ]
  },
  {
   "cell_type": "code",
   "execution_count": null,
   "id": "b2d0996d",
   "metadata": {},
   "outputs": [],
   "source": [
    "classifiers = [(\"dummy clf\", DummyClassifier())]"
   ]
  },
  {
   "cell_type": "code",
   "execution_count": null,
   "id": "215a2ce8",
   "metadata": {},
   "outputs": [],
   "source": [
    "import time"
   ]
  },
  {
   "cell_type": "code",
   "execution_count": null,
   "id": "14969a01",
   "metadata": {},
   "outputs": [],
   "source": [
    "nb_tests = len(extractors) * len(classifiers)\n",
    "benchmark = []\n",
    "for i in range(len(extractors)):\n",
    "    for j in range(len(classifiers)):\n",
    "        steps = pipeline_transformers + [extractors[i], classifiers[j]]\n",
    "        pipeline = Pipeline(steps)\n",
    "        \n",
    "        start = time.process_time()\n",
    "        pipeline.fit(symbols, symbols_labels)\n",
    "        fit_time = time.process_time() - start\n",
    "        \n",
    "        start = time.process_time()\n",
    "        # TODO replace symbols with test set to score\n",
    "        score = pipeline.score(symbols, symbols_labels)\n",
    "        score_time = time.process_time() - start\n",
    "        benchmark.append((extractors[i][0],\n",
    "                          classifiers[j][0],\n",
    "                          \"{:.3f} %\".format(score),\n",
    "                          \"{:.3f} s\".format(fit_time),\n",
    "                          \"{:.3f} s\".format(score_time)))"
   ]
  },
  {
   "cell_type": "code",
   "execution_count": null,
   "id": "17648a29",
   "metadata": {},
   "outputs": [],
   "source": [
    "fig, ax =plt.subplots()\n",
    "column_labels=[\"Extractor\", \"Classifier\", \"Score\", \"CPU fit time\", \"CPU score time\"]\n",
    "ax.axis(\"tight\")\n",
    "ax.axis(\"off\")\n",
    "table = ax.table(cellText=benchmark,\n",
    "                 colLabels=column_labels,\n",
    "                 loc=\"center\",\n",
    "                 cellLoc=\"center\")\n",
    "\n",
    "table.set_fontsize(20)\n",
    "table.scale(2, 2)\n",
    "\n",
    "plt.show()"
   ]
  }
 ],
 "metadata": {
  "kernelspec": {
   "display_name": "Python 3 (ipykernel)",
   "language": "python",
   "name": "python3"
  },
  "language_info": {
   "codemirror_mode": {
    "name": "ipython",
    "version": 3
   },
   "file_extension": ".py",
   "mimetype": "text/x-python",
   "name": "python",
   "nbconvert_exporter": "python",
   "pygments_lexer": "ipython3",
   "version": "3.10.4"
  }
 },
 "nbformat": 4,
 "nbformat_minor": 5
}
