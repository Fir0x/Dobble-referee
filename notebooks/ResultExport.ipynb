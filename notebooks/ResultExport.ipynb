{
 "cells": [
  {
   "cell_type": "code",
   "execution_count": 2,
   "id": "cfa08959",
   "metadata": {},
   "outputs": [],
   "source": [
    "def exportResult(path: str, fileNames: list[str], results: list[int]):\n",
    "    if len(fileNames) != len(results):\n",
    "        raise ValueError(\"Number of files do not match number of results\")\n",
    "    \n",
    "    for i in range(len(fileNames)):\n",
    "        fileContent += f\"{fileNames[i]},{results[i]}\\n\"\n",
    "    \n",
    "    with open(path, \"w\") as outFile:\n",
    "        outFile.write(fileContent)"
   ]
  },
  {
   "cell_type": "code",
   "execution_count": 10,
   "id": "12934c6d",
   "metadata": {},
   "outputs": [],
   "source": [
    "exportResult(\"./test1.csv\", [\"a\"], [1])"
   ]
  },
  {
   "cell_type": "code",
   "execution_count": 11,
   "id": "eb1eed2a",
   "metadata": {},
   "outputs": [],
   "source": [
    "exportResult(\"./test2.csv\", [\"a\", \"b\", \"c\"], [1, 3, 2])"
   ]
  },
  {
   "cell_type": "code",
   "execution_count": 12,
   "id": "f2498dab",
   "metadata": {},
   "outputs": [],
   "source": [
    "import os\n",
    "os.remove(\"./test1.csv\")\n",
    "os.remove(\"./test2.csv\")"
   ]
  },
  {
   "cell_type": "code",
   "execution_count": null,
   "id": "2ab197d9",
   "metadata": {},
   "outputs": [],
   "source": []
  }
 ],
 "metadata": {
  "kernelspec": {
   "display_name": "Python 3 (ipykernel)",
   "language": "python",
   "name": "python3"
  },
  "language_info": {
   "codemirror_mode": {
    "name": "ipython",
    "version": 3
   },
   "file_extension": ".py",
   "mimetype": "text/x-python",
   "name": "python",
   "nbconvert_exporter": "python",
   "pygments_lexer": "ipython3",
   "version": "3.10.2"
  }
 },
 "nbformat": 4,
 "nbformat_minor": 5
}
