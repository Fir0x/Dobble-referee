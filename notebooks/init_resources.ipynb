{
 "cells": [
  {
   "cell_type": "code",
   "execution_count": 1,
   "metadata": {},
   "outputs": [],
   "source": [
    "import os.path\n",
    "from os import path\n",
    "import requests\n",
    "import tarfile\n",
    "import shutil"
   ]
  },
  {
   "cell_type": "code",
   "execution_count": 2,
   "metadata": {},
   "outputs": [],
   "source": [
    "# Check if a local resources file exists.\n",
    "# If not or force=1, creates the files and uploads data.\n",
    "def init_resources(force = 0):\n",
    "    PATH_TO_RESOURCES = \"../resources\"\n",
    "    \n",
    "    if (path.exists(PATH_TO_RESOURCES) and path.isdir(PATH_TO_RESOURCES)):\n",
    "        if (not force):\n",
    "            print(\"Folder 'resources' found.\")\n",
    "            return\n",
    "        else:\n",
    "            shutil.rmtree(PATH_TO_RESOURCES)\n",
    "    \n",
    "    # Create folder\n",
    "    os.mkdir(PATH_TO_RESOURCES)\n",
    "    print(\"[1/4] Folder 'resources' created.\")\n",
    "    \n",
    "    # Download data\n",
    "    url = 'https://www.lrde.epita.fr/~jchazalo/SHARE/dobble-symbols-dataset-train.tar.gz'\n",
    "    TAR_PATH = os.path.join(PATH_TO_RESOURCES, 'dobble-symbols-dataset-train.tar.gz')\n",
    "    response = requests.get(url, stream=True)\n",
    "    if response.status_code == 200:\n",
    "        with open(TAR_PATH, 'wb') as f:\n",
    "            f.write(response.raw.read())\n",
    "            print(\"[2/4] Resources files uploaded.\")\n",
    "    \n",
    "    # Extract from tar\n",
    "    tar = tarfile.open(TAR_PATH)\n",
    "    tar.extractall(PATH_TO_RESOURCES) # specify which folder to extract to\n",
    "    tar.close()\n",
    "    print(\"[3/4] Resources files extracted.\")\n",
    "    \n",
    "    # Delete dowloaded tar\n",
    "    os.remove(TAR_PATH)\n",
    "    print(\"[4/4] Tarball removed.\")"
   ]
  },
  {
   "cell_type": "code",
   "execution_count": null,
   "metadata": {},
   "outputs": [],
   "source": [
    "init_resources()"
   ]
  }
 ],
 "metadata": {
  "kernelspec": {
   "display_name": "Python 3",
   "language": "python",
   "name": "python3"
  },
  "language_info": {
   "codemirror_mode": {
    "name": "ipython",
    "version": 3
   },
   "file_extension": ".py",
   "mimetype": "text/x-python",
   "name": "python",
   "nbconvert_exporter": "python",
   "pygments_lexer": "ipython3",
   "version": "3.8.10"
  }
 },
 "nbformat": 4,
 "nbformat_minor": 4
}
