{
 "cells": [
  {
   "cell_type": "code",
   "execution_count": 1,
   "metadata": {},
   "outputs": [],
   "source": [
    "import os.path\n",
    "from os import path\n",
    "import requests\n",
    "import tarfile\n",
    "import shutil"
   ]
  },
  {
   "cell_type": "markdown",
   "metadata": {},
   "source": [
    "## Fonction init_resources\n",
    "\n",
    "**param force** : 1 si l'on veut télécharger la donnée m\n",
    "\n",
    "1. Controlle l'existence d'un dossier de **resources** situé à la racine du projet\n",
    "2. Si ce dossier existe et que **force == 0** alors il n'y a rien à faire\n",
    "3. Sinon, le dossier est crée, l'archive est téléchargée et décompréssée puis supprimée."
   ]
  },
  {
   "cell_type": "code",
   "execution_count": 2,
   "metadata": {},
   "outputs": [],
   "source": [
    "# Check if a local resources file exists.\n",
    "# If not or force=1, creates the files and uploads data.\n",
    "def init_resources(force = 0):\n",
    "    PATH_TO_RESOURCES = \"../resources\"\n",
    "    \n",
    "    if (path.exists(PATH_TO_RESOURCES) and path.isdir(PATH_TO_RESOURCES)):\n",
    "        if (not force):\n",
    "            print(\"Folder 'resources' found.\")\n",
    "            return\n",
    "        else:\n",
    "            shutil.rmtree(PATH_TO_RESOURCES)\n",
    "    \n",
    "    # Create folder\n",
    "    os.mkdir(PATH_TO_RESOURCES)\n",
    "    print(\"[1/4] Folder '../resources' created.\")\n",
    "    \n",
    "    # Download data\n",
    "    url_data = 'https://www.lrde.epita.fr/~jchazalo/SHARE/dobble-symbols-dataset-train.tar.gz'\n",
    "    url_dobble_img = 'https://boardgamereview.co.uk/wp-content/uploads/2020/02/Dobble-cards-pile-1.png'\n",
    "    TAR_PATH = os.path.join(PATH_TO_RESOURCES, 'dobble-symbols-dataset-train.tar.gz')\n",
    "    IMG_PATH = os.path.join(PATH_TO_RESOURCES, 'dobble_ref.png')\n",
    "    response = requests.get(url_data, stream=True)\n",
    "    if response.status_code == 200:\n",
    "        with open(TAR_PATH, 'wb') as f:\n",
    "            f.write(response.raw.read())\n",
    "    response = requests.get(url_dobble_img, stream=True)\n",
    "    if response.status_code == 200:\n",
    "        with open(IMG_PATH, 'wb') as f:\n",
    "            f.write(response.raw.read())\n",
    "            print(\"[2/4] Resources files uploaded.\")\n",
    "    \n",
    "    # Extract from tar\n",
    "    tar = tarfile.open(TAR_PATH)\n",
    "    tar.extractall(PATH_TO_RESOURCES) # specify which folder to extract to\n",
    "    tar.close()\n",
    "    print(\"[3/4] Resources files extracted.\")\n",
    "    \n",
    "    # Delete dowloaded tar\n",
    "    os.remove(TAR_PATH)\n",
    "    print(\"[4/4] Tarball removed.\")"
   ]
  },
  {
   "cell_type": "code",
   "execution_count": 3,
   "metadata": {},
   "outputs": [
    {
     "name": "stdout",
     "output_type": "stream",
     "text": [
      "[1/4] Folder '../resources' created.\n",
      "[2/4] Resources files uploaded.\n",
      "[3/4] Resources files extracted.\n",
      "[4/4] Tarball removed.\n"
     ]
    }
   ],
   "source": [
    "init_resources(1)"
   ]
  }
 ],
 "metadata": {
  "kernelspec": {
   "display_name": "Python 3 (ipykernel)",
   "language": "python",
   "name": "python3"
  },
  "language_info": {
   "codemirror_mode": {
    "name": "ipython",
    "version": 3
   },
   "file_extension": ".py",
   "mimetype": "text/x-python",
   "name": "python",
   "nbconvert_exporter": "python",
   "pygments_lexer": "ipython3",
   "version": "3.10.4"
  }
 },
 "nbformat": 4,
 "nbformat_minor": 4
}
