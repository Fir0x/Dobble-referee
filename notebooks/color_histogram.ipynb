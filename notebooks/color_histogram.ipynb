{
 "cells": [
  {
   "cell_type": "markdown",
   "id": "fd1f15ca",
   "metadata": {},
   "source": [
    "## Récupérations des images"
   ]
  },
  {
   "cell_type": "code",
   "execution_count": null,
   "id": "c38453bf",
   "metadata": {},
   "outputs": [],
   "source": [
    "PATH_TO_RESOURCES = \"../resources\""
   ]
  },
  {
   "cell_type": "code",
   "execution_count": null,
   "id": "4a6e3c3f",
   "metadata": {},
   "outputs": [],
   "source": [
    "import cv2"
   ]
  },
  {
   "cell_type": "code",
   "execution_count": null,
   "id": "91427614",
   "metadata": {},
   "outputs": [],
   "source": [
    "symbol_files = !ls $PATH_TO_RESOURCES/**/c*.png  | sort\n",
    "symbol_files"
   ]
  },
  {
   "cell_type": "code",
   "execution_count": null,
   "id": "eded4403",
   "metadata": {},
   "outputs": [],
   "source": [
    "def load_image(path):\n",
    "    return cv2.cvtColor(cv2.imread(path), cv2.COLOR_BGR2RGB)"
   ]
  },
  {
   "cell_type": "code",
   "execution_count": null,
   "id": "4027e629",
   "metadata": {},
   "outputs": [],
   "source": [
    "symbols = [load_image(symbol_file) for symbol_file in symbol_files]"
   ]
  },
  {
   "cell_type": "markdown",
   "id": "212605d9",
   "metadata": {},
   "source": [
    "## Récupération des labels"
   ]
  },
  {
   "cell_type": "code",
   "execution_count": null,
   "id": "50f6cf74",
   "metadata": {},
   "outputs": [],
   "source": [
    "import re\n",
    "import numpy as np"
   ]
  },
  {
   "cell_type": "code",
   "execution_count": null,
   "id": "d090884a",
   "metadata": {},
   "outputs": [],
   "source": [
    "symbols_labels = np.array([re.search(\".+/([0-9]{2})/.+\\.png\", symbol_file).group(1) for symbol_file in symbol_files])"
   ]
  },
  {
   "cell_type": "markdown",
   "id": "0dae78d7",
   "metadata": {},
   "source": [
    "# Transformateurs"
   ]
  },
  {
   "cell_type": "markdown",
   "id": "882d53a7",
   "metadata": {},
   "source": [
    "## Extraction de la zone d'intérêt\n",
    "1. Récupération des données d'entrainement\n",
    "2. Calcul des masques\n",
    "3. Extraction des pixels à utiliser dans chaque image"
   ]
  },
  {
   "cell_type": "markdown",
   "id": "29a6cbfc",
   "metadata": {},
   "source": [
    "### Explications"
   ]
  },
  {
   "cell_type": "code",
   "execution_count": null,
   "id": "6b5cb468",
   "metadata": {},
   "outputs": [],
   "source": [
    "import numpy as np\n",
    "import matplotlib.pyplot as plt\n",
    "%matplotlib inline\n",
    "import os"
   ]
  },
  {
   "cell_type": "code",
   "execution_count": null,
   "id": "8bce285b",
   "metadata": {},
   "outputs": [],
   "source": [
    "# define a function to compute the mask of a bubble\n",
    "def symbol2mask(symbol):\n",
    "    return np.sum(symbol, axis=2) < 255 * 3"
   ]
  },
  {
   "cell_type": "code",
   "execution_count": null,
   "id": "29c4a8d4",
   "metadata": {},
   "outputs": [],
   "source": [
    "symbols_masks = [symbol2mask(symbol) for symbol in symbols]"
   ]
  },
  {
   "cell_type": "code",
   "execution_count": null,
   "id": "08b20e4a",
   "metadata": {
    "scrolled": true
   },
   "outputs": [],
   "source": [
    "plt.figure(figsize=(8,16 * 10))\n",
    "for ii in range(57):\n",
    "    plt.subplot(57,2,1+2*ii)\n",
    "    plt.imshow(symbols[ii * 5])\n",
    "    plt.axis(\"off\")\n",
    "    if ii == 0:\n",
    "        plt.title(\"Original\")\n",
    "    plt.subplot(57,2,2+2*ii)\n",
    "    plt.imshow(symbols_masks[ii * 5])\n",
    "    plt.axis(\"off\")\n",
    "    if ii == 0:\n",
    "        plt.title(\"Recolored\")"
   ]
  },
  {
   "cell_type": "markdown",
   "id": "a395b2ed",
   "metadata": {},
   "source": [
    "### Etape de pipeline"
   ]
  },
  {
   "cell_type": "code",
   "execution_count": null,
   "id": "07a06b15",
   "metadata": {},
   "outputs": [],
   "source": [
    "class SymbolExtractor():\n",
    "    def __init__(self):\n",
    "        self.masks = []\n",
    "        \n",
    "    def fit(self, X, y=None, sample_weight=None):\n",
    "        for symbol in X:\n",
    "            self.masks.append(np.sum(symbol, axis=2) < 255 * 3)\n",
    "        \n",
    "        return self\n",
    "    \n",
    "    def transform(self, X, copy=None):\n",
    "        return [X[i][self.masks[i]] for i in range(len(X))]"
   ]
  },
  {
   "cell_type": "markdown",
   "id": "d26af6c2",
   "metadata": {},
   "source": [
    "## Réduction des couleurs\n",
    "Les images sont composées de nombreuses  nuances de couleurs qui ne sont pas forcément nécessaires. On va donc chercher à réduire le nombre couleurs différentes."
   ]
  },
  {
   "cell_type": "code",
   "execution_count": null,
   "id": "91c19fdc",
   "metadata": {},
   "outputs": [],
   "source": [
    "from sklearn.cluster import MiniBatchKMeans"
   ]
  },
  {
   "cell_type": "markdown",
   "id": "dcd6fd62",
   "metadata": {},
   "source": [
    "### Explications"
   ]
  },
  {
   "cell_type": "code",
   "execution_count": null,
   "id": "46afa1ce",
   "metadata": {},
   "outputs": [],
   "source": [
    "sample_pixels = symbols[0][symbols_masks[0]]\n",
    "for i in range(1, len(symbols)):\n",
    "    sample_pixels = np.concatenate((sample_pixels, symbols[i][symbols_masks[i]]), axis=0)\n",
    "\n",
    "sample_pixels.shape, sample_pixels.dtype"
   ]
  },
  {
   "cell_type": "code",
   "execution_count": null,
   "id": "428ed2ae",
   "metadata": {},
   "outputs": [],
   "source": [
    "def find_and_plot_cluster_centers(clusters_nb):\n",
    "    # Train kmeans\n",
    "    kmeans = MiniBatchKMeans(clusters_nb, random_state=42)\n",
    "    kmeans.fit(sample_pixels)\n",
    "    \n",
    "    # Create the LUT\n",
    "    color_lut = np.uint8(kmeans.cluster_centers_)\n",
    "    \n",
    "    # Sort it by hue\n",
    "    hue_lut = cv2.cvtColor(color_lut.reshape(1,color_lut.shape[0], color_lut.shape[1]), cv2.COLOR_BGR2HSV)[:, :, 0]\n",
    "    indices = hue_lut.argsort(axis=None)\n",
    "    color_lut_sorted = color_lut[indices]\n",
    "    \n",
    "    # Plot it\n",
    "    plt.bar(np.arange(len(color_lut)), \n",
    "        np.ones(len(color_lut)), \n",
    "        color=color_lut_sorted/255)\n",
    "    \n",
    "    return kmeans, color_lut"
   ]
  },
  {
   "cell_type": "code",
   "execution_count": null,
   "id": "211022b6",
   "metadata": {},
   "outputs": [],
   "source": [
    "%%time\n",
    "# let us display the images\n",
    "plt.figure(figsize=(8,30))\n",
    "max_clusters_nb = 15\n",
    "variances = np.zeros(max_clusters_nb - 1)\n",
    "\n",
    "for ii in range(1, max_clusters_nb):\n",
    "    plt.subplot(max_clusters_nb, 1, ii)\n",
    "    \n",
    "    kmeans, color_lut = find_and_plot_cluster_centers(ii)\n",
    "    plt.title(ii)\n",
    "    \n",
    "    variances[ii - 1] = kmeans.inertia_"
   ]
  },
  {
   "cell_type": "code",
   "execution_count": null,
   "id": "b3cb4545",
   "metadata": {},
   "outputs": [],
   "source": [
    "from matplotlib.ticker import MaxNLocator"
   ]
  },
  {
   "cell_type": "code",
   "execution_count": null,
   "id": "b30a08d4",
   "metadata": {},
   "outputs": [],
   "source": [
    "plt.plot(np.arange(1, max_clusters_nb), variances)\n",
    "plt.xlabel(\"Number of clusters\")\n",
    "plt.ylabel(\"Variance\")\n",
    "plt.title(\"Variance in function of the number of clusters\")\n",
    "plt.gca().xaxis.set_major_locator(MaxNLocator(integer=True))"
   ]
  },
  {
   "cell_type": "markdown",
   "id": "5e52293b",
   "metadata": {},
   "source": [
    "6 clusters semble être un bon choix.\n",
    "\n",
    "Vérifions cette supposition."
   ]
  },
  {
   "cell_type": "code",
   "execution_count": null,
   "id": "828dd34a",
   "metadata": {},
   "outputs": [],
   "source": [
    "def recolor_masked_know(symbol, symbol_mask, clusterer, color_lut):\n",
    "    recolored = np.ones_like(symbol) * 255\n",
    "    recolored[symbol_mask] = color_lut[np.uint8(clusterer.predict(symbol[symbol_mask]))]\n",
    "    return recolored"
   ]
  },
  {
   "cell_type": "code",
   "execution_count": null,
   "id": "71b5c340",
   "metadata": {
    "scrolled": true
   },
   "outputs": [],
   "source": [
    "%%time\n",
    "# reduce the color of all bubbles\n",
    "# This is exactly what we did for the full poster, but applied to each bubble AND keeping background as black.\n",
    "kmeans, color_lut = find_and_plot_cluster_centers(6)\n",
    "symbols_quant = [recolor_masked_know(symbols[i], symbols_masks[i], kmeans, color_lut) for i in range(len(symbols))]"
   ]
  },
  {
   "cell_type": "code",
   "execution_count": null,
   "id": "25f0a38f",
   "metadata": {},
   "outputs": [],
   "source": [
    "# let us display the images\n",
    "plt.figure(figsize=(8,16 * 5))\n",
    "for ii in range(20):\n",
    "    plt.subplot(57,2,1+2*ii)\n",
    "    plt.imshow(symbols[ii * 5])\n",
    "    plt.axis(\"off\")\n",
    "    if ii == 0:\n",
    "        plt.title(\"Original\")\n",
    "    plt.subplot(57,2,2+2*ii)\n",
    "    plt.imshow(symbols_quant[ii * 5])\n",
    "    plt.axis(\"off\")\n",
    "    if ii == 0:\n",
    "        plt.title(\"Recolored\")"
   ]
  },
  {
   "cell_type": "markdown",
   "id": "f5eb089b",
   "metadata": {},
   "source": [
    "On peut remarquer que le vert et le violet se confondent."
   ]
  },
  {
   "cell_type": "code",
   "execution_count": null,
   "id": "203dd213",
   "metadata": {
    "scrolled": true
   },
   "outputs": [],
   "source": [
    "kmeans, color_lut = find_and_plot_cluster_centers(8)\n",
    "symbols_quant = [recolor_masked_know(symbols[i], symbols_masks[i], kmeans, color_lut) for i in range(len(symbols))]"
   ]
  },
  {
   "cell_type": "markdown",
   "id": "43660b6b",
   "metadata": {},
   "source": [
    "Pour 8 clusters le violet apparaît."
   ]
  },
  {
   "cell_type": "code",
   "execution_count": null,
   "id": "eacba0fb",
   "metadata": {},
   "outputs": [],
   "source": [
    "plt.figure(figsize=(8,16 * 5))\n",
    "for ii in range(20):\n",
    "    plt.subplot(57,2,1+2*ii)\n",
    "    plt.imshow(symbols[ii * 5])\n",
    "    plt.axis(\"off\")\n",
    "    if ii == 0:\n",
    "        plt.title(\"Original\")\n",
    "    plt.subplot(57,2,2+2*ii)\n",
    "    plt.imshow(symbols_quant[ii * 5])\n",
    "    plt.axis(\"off\")\n",
    "    if ii == 0:\n",
    "        plt.title(\"Recolored\")"
   ]
  },
  {
   "cell_type": "markdown",
   "id": "9e8b1d6b",
   "metadata": {},
   "source": [
    "On observe des résultats plus satisfaisants qu'avec 6 clusters, on va donc en utiliser 8."
   ]
  },
  {
   "cell_type": "markdown",
   "id": "2bfc834e",
   "metadata": {},
   "source": [
    "### Etape de pipeline"
   ]
  },
  {
   "cell_type": "markdown",
   "id": "0647a083",
   "metadata": {},
   "source": [
    "Pas d'étape ici. Vu qu'on se sert des centres de clusters pour réduire les couleurs, on va directement utiliser le résultat de prédiction pour l'étape de pipeline de l'histogramme. Cela permet de \"sauter\" la réduction tout en en conservant le principe."
   ]
  },
  {
   "cell_type": "markdown",
   "id": "b6d066d8",
   "metadata": {},
   "source": [
    "# Extraction de caractéristiques"
   ]
  },
  {
   "cell_type": "markdown",
   "id": "132ba408",
   "metadata": {},
   "source": [
    "## Histogramme couleur"
   ]
  },
  {
   "cell_type": "markdown",
   "id": "bd0b2741",
   "metadata": {},
   "source": [
    "### Explications"
   ]
  },
  {
   "cell_type": "code",
   "execution_count": null,
   "id": "bf2279e8",
   "metadata": {},
   "outputs": [],
   "source": [
    "def symbol2hist(symbol, symbol_mask, clusterer):\n",
    "    return np.bincount(np.uint8(clusterer.predict(symbol[symbol_mask])), minlength = clusterer.n_clusters) / np.count_nonzero(symbol_mask)"
   ]
  },
  {
   "cell_type": "code",
   "execution_count": null,
   "id": "7a7d8051",
   "metadata": {},
   "outputs": [],
   "source": [
    "color_histograms = [symbol2hist(symbols_quant[i], symbols_masks[i], kmeans) for i in range(len(symbols))]"
   ]
  },
  {
   "cell_type": "code",
   "execution_count": null,
   "id": "b9c4be13",
   "metadata": {},
   "outputs": [],
   "source": [
    "colors_for_bars = color_lut/255  # matplotlib colors are RGB values scaled to [0,1]\n",
    "for ii in range(20):\n",
    "    plt.figure(figsize=(8,4))\n",
    "    plt.subplot(1,3,1)\n",
    "    symbol_index = ii * 5\n",
    "    plt.imshow(symbols[symbol_index])\n",
    "    plt.axis('off'); plt.title(\"Original\")\n",
    "    plt.subplot(1,3,2)\n",
    "    plt.imshow(symbols_quant[symbol_index])\n",
    "    plt.axis('off'); plt.title(\"Recolored\")\n",
    "    plt.subplot(1,3,3, aspect=len(color_histograms[0]))\n",
    "    plt.ylim(0, 1)\n",
    "    plt.bar(range(len(color_histograms[symbol_index])), \n",
    "            color_histograms[symbol_index]/color_histograms[symbol_index].max(), \n",
    "            color=colors_for_bars)\n",
    "    plt.xticks([]); plt.title(\"Histogram\")\n",
    "    plt.show()"
   ]
  },
  {
   "cell_type": "markdown",
   "id": "bbad92c2",
   "metadata": {},
   "source": [
    "### Etape de pipeline"
   ]
  },
  {
   "cell_type": "code",
   "execution_count": null,
   "id": "5b5a0ca3",
   "metadata": {},
   "outputs": [],
   "source": [
    "class ColorHistogram():\n",
    "    def __init__(self):\n",
    "        self.kmeans = MiniBatchKMeans(8)\n",
    "        \n",
    "    def fit(self, X, y=None, sample_weight=None):\n",
    "        sample_pixels = X[0]\n",
    "        for i in range(1, len(X)):\n",
    "            sample_pixels = np.concatenate((sample_pixels, X[i]), axis=0)\n",
    "        # Train kmeans\n",
    "        self.kmeans.fit(sample_pixels)\n",
    "        \n",
    "        return self\n",
    "    \n",
    "    def transform(self, X, copy=None):\n",
    "        histograms = []\n",
    "        for i in range(len(X)):\n",
    "            histo = np.bincount(np.uint8(self.kmeans.predict(X[i])),\n",
    "                        minlength = self.kmeans.n_clusters) / len(X[i])\n",
    "            histograms.append(histo)\n",
    "\n",
    "        return histograms"
   ]
  },
  {
   "cell_type": "code",
   "execution_count": null,
   "id": "99b49ad8",
   "metadata": {},
   "outputs": [],
   "source": [
    "from sklearn.svm import LinearSVC\n",
    "from sklearn.pipeline import Pipeline"
   ]
  },
  {
   "cell_type": "code",
   "execution_count": null,
   "id": "f00b6c82",
   "metadata": {},
   "outputs": [],
   "source": [
    "pipeline = Pipeline([(\"masking\", SymbolExtractor()), (\"histogram\", ColorHistogram()), (\"clf\", LinearSVC())], verbose=True)\n",
    "pipeline.fit(symbols, symbols_labels)\n",
    "pipeline.score(symbols, symbols_labels)"
   ]
  }
 ],
 "metadata": {
  "kernelspec": {
   "display_name": "Python 3 (ipykernel)",
   "language": "python",
   "name": "python3"
  },
  "language_info": {
   "codemirror_mode": {
    "name": "ipython",
    "version": 3
   },
   "file_extension": ".py",
   "mimetype": "text/x-python",
   "name": "python",
   "nbconvert_exporter": "python",
   "pygments_lexer": "ipython3",
   "version": "3.10.4"
  }
 },
 "nbformat": 4,
 "nbformat_minor": 5
}
